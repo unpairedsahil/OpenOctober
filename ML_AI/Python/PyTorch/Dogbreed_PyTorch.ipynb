{
  "nbformat": 4,
  "nbformat_minor": 0,
  "metadata": {
    "colab": {
      "name": "Dogbreed_PyTorch.ipynb",
      "provenance": [],
      "collapsed_sections": []
    },
    "kernelspec": {
      "name": "python3",
      "display_name": "Python 3"
    },
    "widgets": {
      "application/vnd.jupyter.widget-state+json": {
        "5a99a190681c4cdbb5a5d80e0fe3962d": {
          "model_module": "@jupyter-widgets/controls",
          "model_name": "HBoxModel",
          "state": {
            "_view_name": "HBoxView",
            "_dom_classes": [],
            "_model_name": "HBoxModel",
            "_view_module": "@jupyter-widgets/controls",
            "_model_module_version": "1.5.0",
            "_view_count": null,
            "_view_module_version": "1.5.0",
            "box_style": "",
            "layout": "IPY_MODEL_4cc0dcbf0c23489283b5a131874901b7",
            "_model_module": "@jupyter-widgets/controls",
            "children": [
              "IPY_MODEL_a25cba6db12b4803a296141ee0e48298",
              "IPY_MODEL_2f9c0b902c3442da8ecaa60396ba0096"
            ]
          }
        },
        "4cc0dcbf0c23489283b5a131874901b7": {
          "model_module": "@jupyter-widgets/base",
          "model_name": "LayoutModel",
          "state": {
            "_view_name": "LayoutView",
            "grid_template_rows": null,
            "right": null,
            "justify_content": null,
            "_view_module": "@jupyter-widgets/base",
            "overflow": null,
            "_model_module_version": "1.2.0",
            "_view_count": null,
            "flex_flow": null,
            "width": null,
            "min_width": null,
            "border": null,
            "align_items": null,
            "bottom": null,
            "_model_module": "@jupyter-widgets/base",
            "top": null,
            "grid_column": null,
            "overflow_y": null,
            "overflow_x": null,
            "grid_auto_flow": null,
            "grid_area": null,
            "grid_template_columns": null,
            "flex": null,
            "_model_name": "LayoutModel",
            "justify_items": null,
            "grid_row": null,
            "max_height": null,
            "align_content": null,
            "visibility": null,
            "align_self": null,
            "height": null,
            "min_height": null,
            "padding": null,
            "grid_auto_rows": null,
            "grid_gap": null,
            "max_width": null,
            "order": null,
            "_view_module_version": "1.2.0",
            "grid_template_areas": null,
            "object_position": null,
            "object_fit": null,
            "grid_auto_columns": null,
            "margin": null,
            "display": null,
            "left": null
          }
        },
        "a25cba6db12b4803a296141ee0e48298": {
          "model_module": "@jupyter-widgets/controls",
          "model_name": "FloatProgressModel",
          "state": {
            "_view_name": "ProgressView",
            "style": "IPY_MODEL_e18b1cd76d7e4cc9aa7c272f78d50b50",
            "_dom_classes": [],
            "description": "100%",
            "_model_name": "FloatProgressModel",
            "bar_style": "success",
            "max": 102502400,
            "_view_module": "@jupyter-widgets/controls",
            "_model_module_version": "1.5.0",
            "value": 102502400,
            "_view_count": null,
            "_view_module_version": "1.5.0",
            "orientation": "horizontal",
            "min": 0,
            "description_tooltip": null,
            "_model_module": "@jupyter-widgets/controls",
            "layout": "IPY_MODEL_e555863c2c274e5b82d1f3d723ee66bf"
          }
        },
        "2f9c0b902c3442da8ecaa60396ba0096": {
          "model_module": "@jupyter-widgets/controls",
          "model_name": "HTMLModel",
          "state": {
            "_view_name": "HTMLView",
            "style": "IPY_MODEL_4788d426fd6d4c6eb65ceed7e0268501",
            "_dom_classes": [],
            "description": "",
            "_model_name": "HTMLModel",
            "placeholder": "​",
            "_view_module": "@jupyter-widgets/controls",
            "_model_module_version": "1.5.0",
            "value": " 97.8M/97.8M [00:25&lt;00:00, 4.10MB/s]",
            "_view_count": null,
            "_view_module_version": "1.5.0",
            "description_tooltip": null,
            "_model_module": "@jupyter-widgets/controls",
            "layout": "IPY_MODEL_170f6bc342cc4aab87ac841c439bbfec"
          }
        },
        "e18b1cd76d7e4cc9aa7c272f78d50b50": {
          "model_module": "@jupyter-widgets/controls",
          "model_name": "ProgressStyleModel",
          "state": {
            "_view_name": "StyleView",
            "_model_name": "ProgressStyleModel",
            "description_width": "initial",
            "_view_module": "@jupyter-widgets/base",
            "_model_module_version": "1.5.0",
            "_view_count": null,
            "_view_module_version": "1.2.0",
            "bar_color": null,
            "_model_module": "@jupyter-widgets/controls"
          }
        },
        "e555863c2c274e5b82d1f3d723ee66bf": {
          "model_module": "@jupyter-widgets/base",
          "model_name": "LayoutModel",
          "state": {
            "_view_name": "LayoutView",
            "grid_template_rows": null,
            "right": null,
            "justify_content": null,
            "_view_module": "@jupyter-widgets/base",
            "overflow": null,
            "_model_module_version": "1.2.0",
            "_view_count": null,
            "flex_flow": null,
            "width": null,
            "min_width": null,
            "border": null,
            "align_items": null,
            "bottom": null,
            "_model_module": "@jupyter-widgets/base",
            "top": null,
            "grid_column": null,
            "overflow_y": null,
            "overflow_x": null,
            "grid_auto_flow": null,
            "grid_area": null,
            "grid_template_columns": null,
            "flex": null,
            "_model_name": "LayoutModel",
            "justify_items": null,
            "grid_row": null,
            "max_height": null,
            "align_content": null,
            "visibility": null,
            "align_self": null,
            "height": null,
            "min_height": null,
            "padding": null,
            "grid_auto_rows": null,
            "grid_gap": null,
            "max_width": null,
            "order": null,
            "_view_module_version": "1.2.0",
            "grid_template_areas": null,
            "object_position": null,
            "object_fit": null,
            "grid_auto_columns": null,
            "margin": null,
            "display": null,
            "left": null
          }
        },
        "4788d426fd6d4c6eb65ceed7e0268501": {
          "model_module": "@jupyter-widgets/controls",
          "model_name": "DescriptionStyleModel",
          "state": {
            "_view_name": "StyleView",
            "_model_name": "DescriptionStyleModel",
            "description_width": "",
            "_view_module": "@jupyter-widgets/base",
            "_model_module_version": "1.5.0",
            "_view_count": null,
            "_view_module_version": "1.2.0",
            "_model_module": "@jupyter-widgets/controls"
          }
        },
        "170f6bc342cc4aab87ac841c439bbfec": {
          "model_module": "@jupyter-widgets/base",
          "model_name": "LayoutModel",
          "state": {
            "_view_name": "LayoutView",
            "grid_template_rows": null,
            "right": null,
            "justify_content": null,
            "_view_module": "@jupyter-widgets/base",
            "overflow": null,
            "_model_module_version": "1.2.0",
            "_view_count": null,
            "flex_flow": null,
            "width": null,
            "min_width": null,
            "border": null,
            "align_items": null,
            "bottom": null,
            "_model_module": "@jupyter-widgets/base",
            "top": null,
            "grid_column": null,
            "overflow_y": null,
            "overflow_x": null,
            "grid_auto_flow": null,
            "grid_area": null,
            "grid_template_columns": null,
            "flex": null,
            "_model_name": "LayoutModel",
            "justify_items": null,
            "grid_row": null,
            "max_height": null,
            "align_content": null,
            "visibility": null,
            "align_self": null,
            "height": null,
            "min_height": null,
            "padding": null,
            "grid_auto_rows": null,
            "grid_gap": null,
            "max_width": null,
            "order": null,
            "_view_module_version": "1.2.0",
            "grid_template_areas": null,
            "object_position": null,
            "object_fit": null,
            "grid_auto_columns": null,
            "margin": null,
            "display": null,
            "left": null
          }
        }
      }
    }
  },
  "cells": [
    {
      "cell_type": "markdown",
      "metadata": {
        "id": "owfk6MjUDOUS"
      },
      "source": [
        "# Dog breed classification \n",
        "\n",
        "133 breeds of dogs, which is 133 classes"
      ]
    },
    {
      "cell_type": "code",
      "metadata": {
        "id": "8PPSHq9ngwcW",
        "outputId": "8ad57b54-d884-479f-af67-2d07139c5d46",
        "colab": {
          "base_uri": "https://localhost:8080/",
          "height": 34
        }
      },
      "source": [
        "#importing necessary packages and downloading data\n",
        "import os\n",
        "import urllib.request\n",
        "urllib.request.urlretrieve('https://s3-us-west-1.amazonaws.com/udacity-aind/dog-project/dogImages.zip', 'dogImages.zip')"
      ],
      "execution_count": null,
      "outputs": [
        {
          "output_type": "execute_result",
          "data": {
            "text/plain": [
              "('dogImages.zip', <http.client.HTTPMessage at 0x7fada9095ef0>)"
            ]
          },
          "metadata": {
            "tags": []
          },
          "execution_count": 1
        }
      ]
    },
    {
      "cell_type": "code",
      "metadata": {
        "id": "D9RkEwKyg-7x"
      },
      "source": [
        "!unzip '/content/dogImages.zip'"
      ],
      "execution_count": null,
      "outputs": []
    },
    {
      "cell_type": "code",
      "metadata": {
        "id": "fBj1Bl1_jO4h",
        "outputId": "a07d887f-a7bf-4ea9-d01c-8e5c8ccef2d3",
        "colab": {
          "base_uri": "https://localhost:8080/",
          "height": 34
        }
      },
      "source": [
        "import numpy as np\n",
        "from glob import glob\n",
        "\n",
        "# load filenames for human and dog images\n",
        "dog_files = np.array(glob(\"/content/dogImages/*/*/*\"))\n",
        "# print number of images in each dataset\n",
        "print('There are %d total dog images.' % len(dog_files))"
      ],
      "execution_count": null,
      "outputs": [
        {
          "output_type": "stream",
          "text": [
            "There are 8351 total dog images.\n"
          ],
          "name": "stdout"
        }
      ]
    },
    {
      "cell_type": "code",
      "metadata": {
        "id": "jSi4gDb6jSv1",
        "outputId": "4a5bf2a9-a4ea-48e6-c2f6-397e8bd3c62b",
        "colab": {
          "base_uri": "https://localhost:8080/",
          "height": 82,
          "referenced_widgets": [
            "5a99a190681c4cdbb5a5d80e0fe3962d",
            "4cc0dcbf0c23489283b5a131874901b7",
            "a25cba6db12b4803a296141ee0e48298",
            "2f9c0b902c3442da8ecaa60396ba0096",
            "e18b1cd76d7e4cc9aa7c272f78d50b50",
            "e555863c2c274e5b82d1f3d723ee66bf",
            "4788d426fd6d4c6eb65ceed7e0268501",
            "170f6bc342cc4aab87ac841c439bbfec"
          ]
        }
      },
      "source": [
        "import torch\n",
        "import torchvision.models as models\n",
        "\n",
        "# define Resnet model\n",
        "VGG16 = models.resnet50(pretrained=True)\n",
        "\n",
        "# check if CUDA is available\n",
        "use_cuda = torch.cuda.is_available()\n",
        "\n",
        "# move model to GPU if CUDA is available\n",
        "if use_cuda:\n",
        "    VGG16 = VGG16.cuda()"
      ],
      "execution_count": null,
      "outputs": [
        {
          "output_type": "stream",
          "text": [
            "Downloading: \"https://download.pytorch.org/models/resnet50-19c8e357.pth\" to /root/.cache/torch/hub/checkpoints/resnet50-19c8e357.pth\n"
          ],
          "name": "stderr"
        },
        {
          "output_type": "display_data",
          "data": {
            "application/vnd.jupyter.widget-view+json": {
              "model_id": "5a99a190681c4cdbb5a5d80e0fe3962d",
              "version_minor": 0,
              "version_major": 2
            },
            "text/plain": [
              "HBox(children=(FloatProgress(value=0.0, max=102502400.0), HTML(value='')))"
            ]
          },
          "metadata": {
            "tags": []
          }
        },
        {
          "output_type": "stream",
          "text": [
            "\n"
          ],
          "name": "stdout"
        }
      ]
    },
    {
      "cell_type": "code",
      "metadata": {
        "id": "0-o8pm4Bp0Ht"
      },
      "source": [
        "from torchvision import datasets\n",
        "from PIL import Image\n",
        "import torchvision.transforms as transforms\n",
        "###Write data loaders for training, validation, and test sets\n",
        "## Specify appropriate transforms, and batch_sizes\n",
        "data_dir = '/content/dogImages'\n",
        "train_dir = data_dir + '/train'\n",
        "valid_dir = data_dir + '/valid'\n",
        "test_dir = data_dir + '/test'\n",
        "\n",
        "train_transforms = transforms.Compose([transforms.RandomRotation(30),\n",
        "                                       transforms.RandomResizedCrop(224),\n",
        "                                       transforms.RandomHorizontalFlip(),\n",
        "                                       transforms.ToTensor(),\n",
        "                                       transforms.Normalize([0.485, 0.456, 0.406], \n",
        "                                                            [0.229, 0.224, 0.225])])\n",
        "\n",
        "\n",
        "valid_transforms = transforms.Compose([transforms.Resize(256),\n",
        "                                       transforms.CenterCrop(224),\n",
        "                                       transforms.ToTensor(),\n",
        "                                       transforms.Normalize([0.485, 0.456, 0.406], \n",
        "                                                            [0.229, 0.224, 0.225])])\n",
        "\n",
        "test_transforms = transforms.Compose([transforms.Resize(255),\n",
        "                               transforms.CenterCrop(224),\n",
        "                               transforms.ToTensor(),\n",
        "                                       transforms.Normalize([0.485, 0.456, 0.406], \n",
        "                                                            [0.229, 0.224, 0.225])])\n",
        "# Load the datasets with ImageFolder\n",
        "train_data = datasets.ImageFolder(train_dir, transform=train_transforms)\n",
        "valid_data = datasets.ImageFolder(valid_dir,transform=valid_transforms)\n",
        "test_data = datasets.ImageFolder(test_dir, transform=test_transforms)\n",
        "\n",
        "#Using the image datasets and the trainforms, define the dataloaders\n",
        "trainloader = torch.utils.data.DataLoader(train_data, batch_size=20, shuffle=True)\n",
        "testloader = torch.utils.data.DataLoader(test_data, batch_size=20,shuffle=False)\n",
        "validloader = torch.utils.data.DataLoader(valid_data, batch_size=20,shuffle=False)\n",
        "loaders_transfer = {'train':trainloader,\n",
        "                  'valid':validloader,\n",
        "                  'test':testloader}\n",
        "data_transfer = {\n",
        "    'train':trainloader\n",
        "}"
      ],
      "execution_count": null,
      "outputs": []
    },
    {
      "cell_type": "code",
      "metadata": {
        "id": "BqV0BpKWp55V",
        "outputId": "261f2646-26df-469f-d39c-217e6f9b8c01",
        "colab": {
          "base_uri": "https://localhost:8080/",
          "height": 1000
        }
      },
      "source": [
        "import torchvision.models as models\n",
        "import torch.nn as nn\n",
        "model_transfer = models.resnet50(pretrained=True)\n",
        "\n",
        "for name, param in model_transfer.named_parameters():\n",
        "    param.requires_grad = False\n",
        "\n",
        "##Specify model architecture \n",
        "\n",
        "if use_cuda:\n",
        "    model_transfer = model_transfer.cuda()\n",
        "print(model_transfer)"
      ],
      "execution_count": null,
      "outputs": [
        {
          "output_type": "stream",
          "text": [
            "ResNet(\n",
            "  (conv1): Conv2d(3, 64, kernel_size=(7, 7), stride=(2, 2), padding=(3, 3), bias=False)\n",
            "  (bn1): BatchNorm2d(64, eps=1e-05, momentum=0.1, affine=True, track_running_stats=True)\n",
            "  (relu): ReLU(inplace=True)\n",
            "  (maxpool): MaxPool2d(kernel_size=3, stride=2, padding=1, dilation=1, ceil_mode=False)\n",
            "  (layer1): Sequential(\n",
            "    (0): Bottleneck(\n",
            "      (conv1): Conv2d(64, 64, kernel_size=(1, 1), stride=(1, 1), bias=False)\n",
            "      (bn1): BatchNorm2d(64, eps=1e-05, momentum=0.1, affine=True, track_running_stats=True)\n",
            "      (conv2): Conv2d(64, 64, kernel_size=(3, 3), stride=(1, 1), padding=(1, 1), bias=False)\n",
            "      (bn2): BatchNorm2d(64, eps=1e-05, momentum=0.1, affine=True, track_running_stats=True)\n",
            "      (conv3): Conv2d(64, 256, kernel_size=(1, 1), stride=(1, 1), bias=False)\n",
            "      (bn3): BatchNorm2d(256, eps=1e-05, momentum=0.1, affine=True, track_running_stats=True)\n",
            "      (relu): ReLU(inplace=True)\n",
            "      (downsample): Sequential(\n",
            "        (0): Conv2d(64, 256, kernel_size=(1, 1), stride=(1, 1), bias=False)\n",
            "        (1): BatchNorm2d(256, eps=1e-05, momentum=0.1, affine=True, track_running_stats=True)\n",
            "      )\n",
            "    )\n",
            "    (1): Bottleneck(\n",
            "      (conv1): Conv2d(256, 64, kernel_size=(1, 1), stride=(1, 1), bias=False)\n",
            "      (bn1): BatchNorm2d(64, eps=1e-05, momentum=0.1, affine=True, track_running_stats=True)\n",
            "      (conv2): Conv2d(64, 64, kernel_size=(3, 3), stride=(1, 1), padding=(1, 1), bias=False)\n",
            "      (bn2): BatchNorm2d(64, eps=1e-05, momentum=0.1, affine=True, track_running_stats=True)\n",
            "      (conv3): Conv2d(64, 256, kernel_size=(1, 1), stride=(1, 1), bias=False)\n",
            "      (bn3): BatchNorm2d(256, eps=1e-05, momentum=0.1, affine=True, track_running_stats=True)\n",
            "      (relu): ReLU(inplace=True)\n",
            "    )\n",
            "    (2): Bottleneck(\n",
            "      (conv1): Conv2d(256, 64, kernel_size=(1, 1), stride=(1, 1), bias=False)\n",
            "      (bn1): BatchNorm2d(64, eps=1e-05, momentum=0.1, affine=True, track_running_stats=True)\n",
            "      (conv2): Conv2d(64, 64, kernel_size=(3, 3), stride=(1, 1), padding=(1, 1), bias=False)\n",
            "      (bn2): BatchNorm2d(64, eps=1e-05, momentum=0.1, affine=True, track_running_stats=True)\n",
            "      (conv3): Conv2d(64, 256, kernel_size=(1, 1), stride=(1, 1), bias=False)\n",
            "      (bn3): BatchNorm2d(256, eps=1e-05, momentum=0.1, affine=True, track_running_stats=True)\n",
            "      (relu): ReLU(inplace=True)\n",
            "    )\n",
            "  )\n",
            "  (layer2): Sequential(\n",
            "    (0): Bottleneck(\n",
            "      (conv1): Conv2d(256, 128, kernel_size=(1, 1), stride=(1, 1), bias=False)\n",
            "      (bn1): BatchNorm2d(128, eps=1e-05, momentum=0.1, affine=True, track_running_stats=True)\n",
            "      (conv2): Conv2d(128, 128, kernel_size=(3, 3), stride=(2, 2), padding=(1, 1), bias=False)\n",
            "      (bn2): BatchNorm2d(128, eps=1e-05, momentum=0.1, affine=True, track_running_stats=True)\n",
            "      (conv3): Conv2d(128, 512, kernel_size=(1, 1), stride=(1, 1), bias=False)\n",
            "      (bn3): BatchNorm2d(512, eps=1e-05, momentum=0.1, affine=True, track_running_stats=True)\n",
            "      (relu): ReLU(inplace=True)\n",
            "      (downsample): Sequential(\n",
            "        (0): Conv2d(256, 512, kernel_size=(1, 1), stride=(2, 2), bias=False)\n",
            "        (1): BatchNorm2d(512, eps=1e-05, momentum=0.1, affine=True, track_running_stats=True)\n",
            "      )\n",
            "    )\n",
            "    (1): Bottleneck(\n",
            "      (conv1): Conv2d(512, 128, kernel_size=(1, 1), stride=(1, 1), bias=False)\n",
            "      (bn1): BatchNorm2d(128, eps=1e-05, momentum=0.1, affine=True, track_running_stats=True)\n",
            "      (conv2): Conv2d(128, 128, kernel_size=(3, 3), stride=(1, 1), padding=(1, 1), bias=False)\n",
            "      (bn2): BatchNorm2d(128, eps=1e-05, momentum=0.1, affine=True, track_running_stats=True)\n",
            "      (conv3): Conv2d(128, 512, kernel_size=(1, 1), stride=(1, 1), bias=False)\n",
            "      (bn3): BatchNorm2d(512, eps=1e-05, momentum=0.1, affine=True, track_running_stats=True)\n",
            "      (relu): ReLU(inplace=True)\n",
            "    )\n",
            "    (2): Bottleneck(\n",
            "      (conv1): Conv2d(512, 128, kernel_size=(1, 1), stride=(1, 1), bias=False)\n",
            "      (bn1): BatchNorm2d(128, eps=1e-05, momentum=0.1, affine=True, track_running_stats=True)\n",
            "      (conv2): Conv2d(128, 128, kernel_size=(3, 3), stride=(1, 1), padding=(1, 1), bias=False)\n",
            "      (bn2): BatchNorm2d(128, eps=1e-05, momentum=0.1, affine=True, track_running_stats=True)\n",
            "      (conv3): Conv2d(128, 512, kernel_size=(1, 1), stride=(1, 1), bias=False)\n",
            "      (bn3): BatchNorm2d(512, eps=1e-05, momentum=0.1, affine=True, track_running_stats=True)\n",
            "      (relu): ReLU(inplace=True)\n",
            "    )\n",
            "    (3): Bottleneck(\n",
            "      (conv1): Conv2d(512, 128, kernel_size=(1, 1), stride=(1, 1), bias=False)\n",
            "      (bn1): BatchNorm2d(128, eps=1e-05, momentum=0.1, affine=True, track_running_stats=True)\n",
            "      (conv2): Conv2d(128, 128, kernel_size=(3, 3), stride=(1, 1), padding=(1, 1), bias=False)\n",
            "      (bn2): BatchNorm2d(128, eps=1e-05, momentum=0.1, affine=True, track_running_stats=True)\n",
            "      (conv3): Conv2d(128, 512, kernel_size=(1, 1), stride=(1, 1), bias=False)\n",
            "      (bn3): BatchNorm2d(512, eps=1e-05, momentum=0.1, affine=True, track_running_stats=True)\n",
            "      (relu): ReLU(inplace=True)\n",
            "    )\n",
            "  )\n",
            "  (layer3): Sequential(\n",
            "    (0): Bottleneck(\n",
            "      (conv1): Conv2d(512, 256, kernel_size=(1, 1), stride=(1, 1), bias=False)\n",
            "      (bn1): BatchNorm2d(256, eps=1e-05, momentum=0.1, affine=True, track_running_stats=True)\n",
            "      (conv2): Conv2d(256, 256, kernel_size=(3, 3), stride=(2, 2), padding=(1, 1), bias=False)\n",
            "      (bn2): BatchNorm2d(256, eps=1e-05, momentum=0.1, affine=True, track_running_stats=True)\n",
            "      (conv3): Conv2d(256, 1024, kernel_size=(1, 1), stride=(1, 1), bias=False)\n",
            "      (bn3): BatchNorm2d(1024, eps=1e-05, momentum=0.1, affine=True, track_running_stats=True)\n",
            "      (relu): ReLU(inplace=True)\n",
            "      (downsample): Sequential(\n",
            "        (0): Conv2d(512, 1024, kernel_size=(1, 1), stride=(2, 2), bias=False)\n",
            "        (1): BatchNorm2d(1024, eps=1e-05, momentum=0.1, affine=True, track_running_stats=True)\n",
            "      )\n",
            "    )\n",
            "    (1): Bottleneck(\n",
            "      (conv1): Conv2d(1024, 256, kernel_size=(1, 1), stride=(1, 1), bias=False)\n",
            "      (bn1): BatchNorm2d(256, eps=1e-05, momentum=0.1, affine=True, track_running_stats=True)\n",
            "      (conv2): Conv2d(256, 256, kernel_size=(3, 3), stride=(1, 1), padding=(1, 1), bias=False)\n",
            "      (bn2): BatchNorm2d(256, eps=1e-05, momentum=0.1, affine=True, track_running_stats=True)\n",
            "      (conv3): Conv2d(256, 1024, kernel_size=(1, 1), stride=(1, 1), bias=False)\n",
            "      (bn3): BatchNorm2d(1024, eps=1e-05, momentum=0.1, affine=True, track_running_stats=True)\n",
            "      (relu): ReLU(inplace=True)\n",
            "    )\n",
            "    (2): Bottleneck(\n",
            "      (conv1): Conv2d(1024, 256, kernel_size=(1, 1), stride=(1, 1), bias=False)\n",
            "      (bn1): BatchNorm2d(256, eps=1e-05, momentum=0.1, affine=True, track_running_stats=True)\n",
            "      (conv2): Conv2d(256, 256, kernel_size=(3, 3), stride=(1, 1), padding=(1, 1), bias=False)\n",
            "      (bn2): BatchNorm2d(256, eps=1e-05, momentum=0.1, affine=True, track_running_stats=True)\n",
            "      (conv3): Conv2d(256, 1024, kernel_size=(1, 1), stride=(1, 1), bias=False)\n",
            "      (bn3): BatchNorm2d(1024, eps=1e-05, momentum=0.1, affine=True, track_running_stats=True)\n",
            "      (relu): ReLU(inplace=True)\n",
            "    )\n",
            "    (3): Bottleneck(\n",
            "      (conv1): Conv2d(1024, 256, kernel_size=(1, 1), stride=(1, 1), bias=False)\n",
            "      (bn1): BatchNorm2d(256, eps=1e-05, momentum=0.1, affine=True, track_running_stats=True)\n",
            "      (conv2): Conv2d(256, 256, kernel_size=(3, 3), stride=(1, 1), padding=(1, 1), bias=False)\n",
            "      (bn2): BatchNorm2d(256, eps=1e-05, momentum=0.1, affine=True, track_running_stats=True)\n",
            "      (conv3): Conv2d(256, 1024, kernel_size=(1, 1), stride=(1, 1), bias=False)\n",
            "      (bn3): BatchNorm2d(1024, eps=1e-05, momentum=0.1, affine=True, track_running_stats=True)\n",
            "      (relu): ReLU(inplace=True)\n",
            "    )\n",
            "    (4): Bottleneck(\n",
            "      (conv1): Conv2d(1024, 256, kernel_size=(1, 1), stride=(1, 1), bias=False)\n",
            "      (bn1): BatchNorm2d(256, eps=1e-05, momentum=0.1, affine=True, track_running_stats=True)\n",
            "      (conv2): Conv2d(256, 256, kernel_size=(3, 3), stride=(1, 1), padding=(1, 1), bias=False)\n",
            "      (bn2): BatchNorm2d(256, eps=1e-05, momentum=0.1, affine=True, track_running_stats=True)\n",
            "      (conv3): Conv2d(256, 1024, kernel_size=(1, 1), stride=(1, 1), bias=False)\n",
            "      (bn3): BatchNorm2d(1024, eps=1e-05, momentum=0.1, affine=True, track_running_stats=True)\n",
            "      (relu): ReLU(inplace=True)\n",
            "    )\n",
            "    (5): Bottleneck(\n",
            "      (conv1): Conv2d(1024, 256, kernel_size=(1, 1), stride=(1, 1), bias=False)\n",
            "      (bn1): BatchNorm2d(256, eps=1e-05, momentum=0.1, affine=True, track_running_stats=True)\n",
            "      (conv2): Conv2d(256, 256, kernel_size=(3, 3), stride=(1, 1), padding=(1, 1), bias=False)\n",
            "      (bn2): BatchNorm2d(256, eps=1e-05, momentum=0.1, affine=True, track_running_stats=True)\n",
            "      (conv3): Conv2d(256, 1024, kernel_size=(1, 1), stride=(1, 1), bias=False)\n",
            "      (bn3): BatchNorm2d(1024, eps=1e-05, momentum=0.1, affine=True, track_running_stats=True)\n",
            "      (relu): ReLU(inplace=True)\n",
            "    )\n",
            "  )\n",
            "  (layer4): Sequential(\n",
            "    (0): Bottleneck(\n",
            "      (conv1): Conv2d(1024, 512, kernel_size=(1, 1), stride=(1, 1), bias=False)\n",
            "      (bn1): BatchNorm2d(512, eps=1e-05, momentum=0.1, affine=True, track_running_stats=True)\n",
            "      (conv2): Conv2d(512, 512, kernel_size=(3, 3), stride=(2, 2), padding=(1, 1), bias=False)\n",
            "      (bn2): BatchNorm2d(512, eps=1e-05, momentum=0.1, affine=True, track_running_stats=True)\n",
            "      (conv3): Conv2d(512, 2048, kernel_size=(1, 1), stride=(1, 1), bias=False)\n",
            "      (bn3): BatchNorm2d(2048, eps=1e-05, momentum=0.1, affine=True, track_running_stats=True)\n",
            "      (relu): ReLU(inplace=True)\n",
            "      (downsample): Sequential(\n",
            "        (0): Conv2d(1024, 2048, kernel_size=(1, 1), stride=(2, 2), bias=False)\n",
            "        (1): BatchNorm2d(2048, eps=1e-05, momentum=0.1, affine=True, track_running_stats=True)\n",
            "      )\n",
            "    )\n",
            "    (1): Bottleneck(\n",
            "      (conv1): Conv2d(2048, 512, kernel_size=(1, 1), stride=(1, 1), bias=False)\n",
            "      (bn1): BatchNorm2d(512, eps=1e-05, momentum=0.1, affine=True, track_running_stats=True)\n",
            "      (conv2): Conv2d(512, 512, kernel_size=(3, 3), stride=(1, 1), padding=(1, 1), bias=False)\n",
            "      (bn2): BatchNorm2d(512, eps=1e-05, momentum=0.1, affine=True, track_running_stats=True)\n",
            "      (conv3): Conv2d(512, 2048, kernel_size=(1, 1), stride=(1, 1), bias=False)\n",
            "      (bn3): BatchNorm2d(2048, eps=1e-05, momentum=0.1, affine=True, track_running_stats=True)\n",
            "      (relu): ReLU(inplace=True)\n",
            "    )\n",
            "    (2): Bottleneck(\n",
            "      (conv1): Conv2d(2048, 512, kernel_size=(1, 1), stride=(1, 1), bias=False)\n",
            "      (bn1): BatchNorm2d(512, eps=1e-05, momentum=0.1, affine=True, track_running_stats=True)\n",
            "      (conv2): Conv2d(512, 512, kernel_size=(3, 3), stride=(1, 1), padding=(1, 1), bias=False)\n",
            "      (bn2): BatchNorm2d(512, eps=1e-05, momentum=0.1, affine=True, track_running_stats=True)\n",
            "      (conv3): Conv2d(512, 2048, kernel_size=(1, 1), stride=(1, 1), bias=False)\n",
            "      (bn3): BatchNorm2d(2048, eps=1e-05, momentum=0.1, affine=True, track_running_stats=True)\n",
            "      (relu): ReLU(inplace=True)\n",
            "    )\n",
            "  )\n",
            "  (avgpool): AdaptiveAvgPool2d(output_size=(1, 1))\n",
            "  (fc): Linear(in_features=2048, out_features=1000, bias=True)\n",
            ")\n"
          ],
          "name": "stdout"
        }
      ]
    },
    {
      "cell_type": "code",
      "metadata": {
        "id": "9caNQzuirAFA",
        "outputId": "35b7ab97-b328-4d4f-ad67-d04b2739ef7e",
        "colab": {
          "base_uri": "https://localhost:8080/",
          "height": 162
        }
      },
      "source": [
        "model_transfer.fc[6] = nn.Linear(4096,133,bias=True)"
      ],
      "execution_count": null,
      "outputs": [
        {
          "output_type": "error",
          "ename": "TypeError",
          "evalue": "ignored",
          "traceback": [
            "\u001b[0;31m---------------------------------------------------------------------------\u001b[0m",
            "\u001b[0;31mTypeError\u001b[0m                                 Traceback (most recent call last)",
            "\u001b[0;32m<ipython-input-10-b26ceb1a3832>\u001b[0m in \u001b[0;36m<module>\u001b[0;34m()\u001b[0m\n\u001b[0;32m----> 1\u001b[0;31m \u001b[0mmodel_transfer\u001b[0m\u001b[0;34m.\u001b[0m\u001b[0mfc\u001b[0m\u001b[0;34m[\u001b[0m\u001b[0;36m6\u001b[0m\u001b[0;34m]\u001b[0m \u001b[0;34m=\u001b[0m \u001b[0mnn\u001b[0m\u001b[0;34m.\u001b[0m\u001b[0mLinear\u001b[0m\u001b[0;34m(\u001b[0m\u001b[0;36m4096\u001b[0m\u001b[0;34m,\u001b[0m\u001b[0;36m133\u001b[0m\u001b[0;34m,\u001b[0m\u001b[0mbias\u001b[0m\u001b[0;34m=\u001b[0m\u001b[0;32mTrue\u001b[0m\u001b[0;34m)\u001b[0m\u001b[0;34m\u001b[0m\u001b[0;34m\u001b[0m\u001b[0m\n\u001b[0m",
            "\u001b[0;31mTypeError\u001b[0m: 'Linear' object does not support item assignment"
          ]
        }
      ]
    },
    {
      "cell_type": "code",
      "metadata": {
        "id": "nt2xa_NirXXx"
      },
      "source": [
        "import torch.optim as optim\n",
        "\n",
        "###select loss function\n",
        "criterion_transfer = nn.CrossEntropyLoss()\n",
        "\n",
        "###select optimizer\n",
        "optimizer_transfer = optim.SGD(model_transfer.parameters(), lr=0.001, momentum=0.9)"
      ],
      "execution_count": null,
      "outputs": []
    },
    {
      "cell_type": "code",
      "metadata": {
        "id": "M_R4rub_tmND"
      },
      "source": [
        "def train(n_epochs, loaders, model, optimizer, criterion, use_cuda, save_path):\n",
        "    \"\"\"returns trained model\"\"\"\n",
        "    # initialize tracker for minimum validation loss\n",
        "    valid_loss_min = np.inf \n",
        "    \n",
        "    for epoch in range(1, n_epochs+1):\n",
        "        # initialize variables to monitor training and validation loss\n",
        "        train_loss = 0.0\n",
        "        valid_loss = 0.0\n",
        "        ###################\n",
        "        # train the model #\n",
        "        ###################\n",
        "        model.train()\n",
        "        for batch_idx, (data, target) in enumerate(loaders['train']):\n",
        "            # move to GPU\n",
        "            if use_cuda:\n",
        "                data, target = data.cuda(), target.cuda()\n",
        "                model.to('cuda')\n",
        "            ## find the loss and update the model parameters accordingly\n",
        "            ## record the average training loss, using something like\n",
        "            ## train_loss = train_loss + ((1 / (batch_idx + 1)) * (loss.data - train_loss))\n",
        "            optimizer.zero_grad()\n",
        "            output = model(data)\n",
        "            loss = criterion(output,target)\n",
        "            loss.backward()\n",
        "            optimizer.step()\n",
        "            train_loss = train_loss + ((1 / (batch_idx + 1)) * (loss.data - train_loss))\n",
        "        ######################    \n",
        "        # validate the model #\n",
        "        ######################\n",
        "        model.eval()\n",
        "        for batch_idx, (data, target) in enumerate(loaders['valid']):\n",
        "            accuracy=0\n",
        "            # move to GPU\n",
        "            if use_cuda:\n",
        "                data, target = data.cuda(), target.cuda()\n",
        "            ## update the average validation loss\n",
        "            logps = model(data)\n",
        "            loss = criterion(logps, target)\n",
        "\n",
        "            valid_loss += ((1 / (batch_idx + 1)) * (loss.data - valid_loss))\n",
        "            \n",
        "            \n",
        "            \n",
        "        # print training/validation statistics \n",
        "        print('Epoch: {} \\tTraining Loss: {:.6f} \\tValidation Loss: {:.6f}'.format(\n",
        "            epoch, \n",
        "            train_loss,\n",
        "            valid_loss\n",
        "            ))\n",
        "        \n",
        "        ## TODO: save the model if validation loss has decreased\n",
        "        if valid_loss <= valid_loss_min:\n",
        "            print('Validation loss decreased ({:.6f} --> {:.6f}).  Saving model ...'.format(\n",
        "            valid_loss_min,\n",
        "            valid_loss))\n",
        "            torch.save(model.state_dict(), 'model_transfer.pt')\n",
        "            valid_loss_min = valid_loss\n",
        "    # return trained model\n",
        "    return model\n"
      ],
      "execution_count": null,
      "outputs": []
    },
    {
      "cell_type": "code",
      "metadata": {
        "id": "WyQKEru4ukm7",
        "outputId": "1cfb54dd-e580-43c8-bb55-ca1c3a20152d",
        "colab": {
          "base_uri": "https://localhost:8080/",
          "height": 319
        }
      },
      "source": [
        "# train the model\n",
        "model_transfer = train(10, loaders_transfer, model_transfer, optimizer_transfer, criterion_transfer, use_cuda, 'model_transfer.pt')\n",
        "\n",
        "# load the model that got the best validation accuracy (uncomment the line below)\n",
        "model_transfer.load_state_dict(torch.load('model_transfer.pt'))"
      ],
      "execution_count": null,
      "outputs": [
        {
          "output_type": "stream",
          "text": [
            "Epoch: 1 \tTraining Loss: 2.443815 \tValidation Loss: 0.801671\n",
            "Validation loss decreased (inf --> 0.801671).  Saving model ...\n",
            "Epoch: 2 \tTraining Loss: 1.440627 \tValidation Loss: 0.591050\n",
            "Validation loss decreased (0.801671 --> 0.591050).  Saving model ...\n",
            "Epoch: 3 \tTraining Loss: 1.310158 \tValidation Loss: 0.560950\n",
            "Validation loss decreased (0.591050 --> 0.560950).  Saving model ...\n",
            "Epoch: 4 \tTraining Loss: 1.200572 \tValidation Loss: 0.566340\n",
            "Epoch: 5 \tTraining Loss: 1.160727 \tValidation Loss: 0.530196\n",
            "Validation loss decreased (0.560950 --> 0.530196).  Saving model ...\n",
            "Epoch: 6 \tTraining Loss: 1.088659 \tValidation Loss: 0.560774\n",
            "Epoch: 7 \tTraining Loss: 1.060936 \tValidation Loss: 0.503829\n",
            "Validation loss decreased (0.530196 --> 0.503829).  Saving model ...\n",
            "Epoch: 8 \tTraining Loss: 1.010044 \tValidation Loss: 0.500608\n",
            "Validation loss decreased (0.503829 --> 0.500608).  Saving model ...\n",
            "Epoch: 9 \tTraining Loss: 1.054875 \tValidation Loss: 0.497319\n",
            "Validation loss decreased (0.500608 --> 0.497319).  Saving model ...\n",
            "Epoch: 10 \tTraining Loss: 1.000547 \tValidation Loss: 0.545735\n"
          ],
          "name": "stdout"
        },
        {
          "output_type": "execute_result",
          "data": {
            "text/plain": [
              "<All keys matched successfully>"
            ]
          },
          "metadata": {
            "tags": []
          },
          "execution_count": 30
        }
      ]
    },
    {
      "cell_type": "code",
      "metadata": {
        "id": "3kYAELsKuosB",
        "outputId": "9b84f09b-a0fc-4226-c411-c0d9b2eba23d",
        "colab": {
          "base_uri": "https://localhost:8080/",
          "height": 84
        }
      },
      "source": [
        "\n",
        "def test(loaders, model, criterion, use_cuda):\n",
        "\n",
        "    # monitor test loss and accuracy\n",
        "    test_loss = 0.\n",
        "    correct = 0.\n",
        "    total = 0.\n",
        "\n",
        "    model.eval()\n",
        "    for batch_idx, (data, target) in enumerate(loaders['test']):\n",
        "        # move to GPU\n",
        "        if use_cuda:\n",
        "            data, target = data.cuda(), target.cuda()\n",
        "        # forward pass: compute predicted outputs by passing inputs to the model\n",
        "        output = model(data)\n",
        "        # calculate the loss\n",
        "        loss = criterion(output, target)\n",
        "        # update average test loss \n",
        "        test_loss = test_loss + ((1 / (batch_idx + 1)) * (loss.data - test_loss))\n",
        "        # convert output probabilities to predicted class\n",
        "        pred = output.data.max(1, keepdim=True)[1]\n",
        "        # compare predictions to true label\n",
        "        correct += np.sum(np.squeeze(pred.eq(target.data.view_as(pred))).cpu().numpy())\n",
        "        total += data.size(0)\n",
        "            \n",
        "    print('Test Loss: {:.6f}\\n'.format(test_loss))\n",
        "\n",
        "    print('\\nTest Accuracy: %2d%% (%2d/%2d)' % (\n",
        "        100. * correct / total, correct, total))\n",
        "test(loaders_transfer, model_transfer, criterion_transfer, use_cuda)"
      ],
      "execution_count": null,
      "outputs": [
        {
          "output_type": "stream",
          "text": [
            "Test Loss: 0.542430\n",
            "\n",
            "\n",
            "Test Accuracy: 83% (700/836)\n"
          ],
          "name": "stdout"
        }
      ]
    },
    {
      "cell_type": "code",
      "metadata": {
        "id": "lFT31oCAzqka",
        "outputId": "8d3c998e-2bcb-4372-fb0e-80021ccb3e6c",
        "colab": {
          "base_uri": "https://localhost:8080/",
          "height": 34
        }
      },
      "source": [
        "#Write a function that takes a path to an image as input\n",
        "### and returns the dog breed that is predicted by the model.\n",
        "dog_files_short = np.array(glob(\"/content/my_dogs/*\"))\n",
        "# list of class names by index, i.e. a name can be accessed like class_names[0]\n",
        "class_names = [item[4:].replace(\"_\", \" \") for item in data_transfer['train'].dataset.classes]\n",
        "\n",
        "model_transfer.load_state_dict(torch.load('model_transfer.pt'))\n",
        "def predict_breed_transfer(img_path):\n",
        "    # load the image and return the predicted breed\n",
        "    \n",
        "    transform = transforms.Compose([transforms.Resize(255),\n",
        "                               transforms.CenterCrop(224),\n",
        "                               transforms.ToTensor(),\n",
        "                                       transforms.Normalize([0.485, 0.456, 0.406], \n",
        "                                                            [0.229, 0.224, 0.225])])\n",
        "    img = Image.open(img_path)\n",
        "    img = transform(img)[:3,:,:].unsqueeze(0)\n",
        "    if use_cuda:\n",
        "        img = img.cuda()\n",
        "        model_transfer.to('cuda')\n",
        "        # forward pass: compute predicted outputs by passing inputs to the model\n",
        "    model_transfer.eval()\n",
        "    idx = torch.argmax(model_transfer(img))\n",
        "    return class_names[idx]\n",
        "\n",
        "\n",
        "    output = model_transfer(img)\n",
        "    # convert output probabilities to predicted class\n",
        "    pred = output.data.max(1, keepdim=True)[1]\n",
        "    # compare predictions to true label\n",
        "    return pred\n",
        "for i in dog_files_short:\n",
        "    print(predict_breed_transfer(i))\n",
        "    break\n",
        "\n"
      ],
      "execution_count": null,
      "outputs": [
        {
          "output_type": "stream",
          "text": [
            "Norwegian buhund\n"
          ],
          "name": "stdout"
        }
      ]
    },
    {
      "cell_type": "code",
      "metadata": {
        "id": "3UhYPGRQ0e3S"
      },
      "source": [
        "## TODO: Specify data loaders\n",
        "loaders_transfer1 = loaders_transfer.copy()"
      ],
      "execution_count": null,
      "outputs": []
    },
    {
      "cell_type": "code",
      "metadata": {
        "id": "ddxB4s9AcDYs"
      },
      "source": [
        "import torchvision.models as models\n",
        "import torch.nn as nn\n",
        "\n",
        "## TODO: Specify model architecture \n",
        "model_transfer = models.resnet50(pretrained=True)\n",
        "\n",
        "for name, param in model_transfer.named_parameters():\n",
        "    param.requires_grad = False\n",
        "    \n",
        "model_transfer.fc = nn.Linear(2048, 133, bias=True)    #replacing last fc with custom fully-connected layer which should output 133 sized vector\n",
        "\n",
        "fc_parameters = model_transfer.fc.parameters()         #extracting fc parameters\n",
        "for param in fc_parameters:\n",
        "    param.requires_grad = True\n"
      ],
      "execution_count": null,
      "outputs": []
    },
    {
      "cell_type": "code",
      "metadata": {
        "id": "9sth-xzqcuXd"
      },
      "source": [
        "if use_cuda:\n",
        "    model_transfer = model_transfer.cuda()"
      ],
      "execution_count": null,
      "outputs": []
    },
    {
      "cell_type": "code",
      "metadata": {
        "id": "jZpbgJ94cwKC",
        "outputId": "4d37d4a3-9c5b-4186-c27c-6abfc2575d35",
        "colab": {
          "base_uri": "https://localhost:8080/",
          "height": 1000
        }
      },
      "source": [
        "\n",
        "for name, param in model_transfer.named_parameters():\n",
        "    print(name, ':', param.requires_grad)"
      ],
      "execution_count": null,
      "outputs": [
        {
          "output_type": "stream",
          "text": [
            "conv1.weight : False\n",
            "bn1.weight : False\n",
            "bn1.bias : False\n",
            "layer1.0.conv1.weight : False\n",
            "layer1.0.bn1.weight : False\n",
            "layer1.0.bn1.bias : False\n",
            "layer1.0.conv2.weight : False\n",
            "layer1.0.bn2.weight : False\n",
            "layer1.0.bn2.bias : False\n",
            "layer1.0.conv3.weight : False\n",
            "layer1.0.bn3.weight : False\n",
            "layer1.0.bn3.bias : False\n",
            "layer1.0.downsample.0.weight : False\n",
            "layer1.0.downsample.1.weight : False\n",
            "layer1.0.downsample.1.bias : False\n",
            "layer1.1.conv1.weight : False\n",
            "layer1.1.bn1.weight : False\n",
            "layer1.1.bn1.bias : False\n",
            "layer1.1.conv2.weight : False\n",
            "layer1.1.bn2.weight : False\n",
            "layer1.1.bn2.bias : False\n",
            "layer1.1.conv3.weight : False\n",
            "layer1.1.bn3.weight : False\n",
            "layer1.1.bn3.bias : False\n",
            "layer1.2.conv1.weight : False\n",
            "layer1.2.bn1.weight : False\n",
            "layer1.2.bn1.bias : False\n",
            "layer1.2.conv2.weight : False\n",
            "layer1.2.bn2.weight : False\n",
            "layer1.2.bn2.bias : False\n",
            "layer1.2.conv3.weight : False\n",
            "layer1.2.bn3.weight : False\n",
            "layer1.2.bn3.bias : False\n",
            "layer2.0.conv1.weight : False\n",
            "layer2.0.bn1.weight : False\n",
            "layer2.0.bn1.bias : False\n",
            "layer2.0.conv2.weight : False\n",
            "layer2.0.bn2.weight : False\n",
            "layer2.0.bn2.bias : False\n",
            "layer2.0.conv3.weight : False\n",
            "layer2.0.bn3.weight : False\n",
            "layer2.0.bn3.bias : False\n",
            "layer2.0.downsample.0.weight : False\n",
            "layer2.0.downsample.1.weight : False\n",
            "layer2.0.downsample.1.bias : False\n",
            "layer2.1.conv1.weight : False\n",
            "layer2.1.bn1.weight : False\n",
            "layer2.1.bn1.bias : False\n",
            "layer2.1.conv2.weight : False\n",
            "layer2.1.bn2.weight : False\n",
            "layer2.1.bn2.bias : False\n",
            "layer2.1.conv3.weight : False\n",
            "layer2.1.bn3.weight : False\n",
            "layer2.1.bn3.bias : False\n",
            "layer2.2.conv1.weight : False\n",
            "layer2.2.bn1.weight : False\n",
            "layer2.2.bn1.bias : False\n",
            "layer2.2.conv2.weight : False\n",
            "layer2.2.bn2.weight : False\n",
            "layer2.2.bn2.bias : False\n",
            "layer2.2.conv3.weight : False\n",
            "layer2.2.bn3.weight : False\n",
            "layer2.2.bn3.bias : False\n",
            "layer2.3.conv1.weight : False\n",
            "layer2.3.bn1.weight : False\n",
            "layer2.3.bn1.bias : False\n",
            "layer2.3.conv2.weight : False\n",
            "layer2.3.bn2.weight : False\n",
            "layer2.3.bn2.bias : False\n",
            "layer2.3.conv3.weight : False\n",
            "layer2.3.bn3.weight : False\n",
            "layer2.3.bn3.bias : False\n",
            "layer3.0.conv1.weight : False\n",
            "layer3.0.bn1.weight : False\n",
            "layer3.0.bn1.bias : False\n",
            "layer3.0.conv2.weight : False\n",
            "layer3.0.bn2.weight : False\n",
            "layer3.0.bn2.bias : False\n",
            "layer3.0.conv3.weight : False\n",
            "layer3.0.bn3.weight : False\n",
            "layer3.0.bn3.bias : False\n",
            "layer3.0.downsample.0.weight : False\n",
            "layer3.0.downsample.1.weight : False\n",
            "layer3.0.downsample.1.bias : False\n",
            "layer3.1.conv1.weight : False\n",
            "layer3.1.bn1.weight : False\n",
            "layer3.1.bn1.bias : False\n",
            "layer3.1.conv2.weight : False\n",
            "layer3.1.bn2.weight : False\n",
            "layer3.1.bn2.bias : False\n",
            "layer3.1.conv3.weight : False\n",
            "layer3.1.bn3.weight : False\n",
            "layer3.1.bn3.bias : False\n",
            "layer3.2.conv1.weight : False\n",
            "layer3.2.bn1.weight : False\n",
            "layer3.2.bn1.bias : False\n",
            "layer3.2.conv2.weight : False\n",
            "layer3.2.bn2.weight : False\n",
            "layer3.2.bn2.bias : False\n",
            "layer3.2.conv3.weight : False\n",
            "layer3.2.bn3.weight : False\n",
            "layer3.2.bn3.bias : False\n",
            "layer3.3.conv1.weight : False\n",
            "layer3.3.bn1.weight : False\n",
            "layer3.3.bn1.bias : False\n",
            "layer3.3.conv2.weight : False\n",
            "layer3.3.bn2.weight : False\n",
            "layer3.3.bn2.bias : False\n",
            "layer3.3.conv3.weight : False\n",
            "layer3.3.bn3.weight : False\n",
            "layer3.3.bn3.bias : False\n",
            "layer3.4.conv1.weight : False\n",
            "layer3.4.bn1.weight : False\n",
            "layer3.4.bn1.bias : False\n",
            "layer3.4.conv2.weight : False\n",
            "layer3.4.bn2.weight : False\n",
            "layer3.4.bn2.bias : False\n",
            "layer3.4.conv3.weight : False\n",
            "layer3.4.bn3.weight : False\n",
            "layer3.4.bn3.bias : False\n",
            "layer3.5.conv1.weight : False\n",
            "layer3.5.bn1.weight : False\n",
            "layer3.5.bn1.bias : False\n",
            "layer3.5.conv2.weight : False\n",
            "layer3.5.bn2.weight : False\n",
            "layer3.5.bn2.bias : False\n",
            "layer3.5.conv3.weight : False\n",
            "layer3.5.bn3.weight : False\n",
            "layer3.5.bn3.bias : False\n",
            "layer4.0.conv1.weight : False\n",
            "layer4.0.bn1.weight : False\n",
            "layer4.0.bn1.bias : False\n",
            "layer4.0.conv2.weight : False\n",
            "layer4.0.bn2.weight : False\n",
            "layer4.0.bn2.bias : False\n",
            "layer4.0.conv3.weight : False\n",
            "layer4.0.bn3.weight : False\n",
            "layer4.0.bn3.bias : False\n",
            "layer4.0.downsample.0.weight : False\n",
            "layer4.0.downsample.1.weight : False\n",
            "layer4.0.downsample.1.bias : False\n",
            "layer4.1.conv1.weight : False\n",
            "layer4.1.bn1.weight : False\n",
            "layer4.1.bn1.bias : False\n",
            "layer4.1.conv2.weight : False\n",
            "layer4.1.bn2.weight : False\n",
            "layer4.1.bn2.bias : False\n",
            "layer4.1.conv3.weight : False\n",
            "layer4.1.bn3.weight : False\n",
            "layer4.1.bn3.bias : False\n",
            "layer4.2.conv1.weight : False\n",
            "layer4.2.bn1.weight : False\n",
            "layer4.2.bn1.bias : False\n",
            "layer4.2.conv2.weight : False\n",
            "layer4.2.bn2.weight : False\n",
            "layer4.2.bn2.bias : False\n",
            "layer4.2.conv3.weight : False\n",
            "layer4.2.bn3.weight : False\n",
            "layer4.2.bn3.bias : False\n",
            "fc.weight : True\n",
            "fc.bias : True\n"
          ],
          "name": "stdout"
        }
      ]
    },
    {
      "cell_type": "code",
      "metadata": {
        "id": "pISWIuDrd4Eq"
      },
      "source": [
        "import torch.optim as optim\n",
        "\n",
        "criterion_transfer = nn.CrossEntropyLoss()\n",
        "optimizer_transfer = optim.SGD(model_transfer.fc.parameters(), lr=0.001)"
      ],
      "execution_count": null,
      "outputs": []
    },
    {
      "cell_type": "code",
      "metadata": {
        "id": "fu6aP0N2d45F"
      },
      "source": [
        "def train(n_epochs, loaders, model, optimizer, criterion, use_cuda, save_path):\n",
        "    \"\"\"returns trained model\"\"\"\n",
        "    # initialize tracker for minimum validation loss\n",
        "    valid_loss_min = np.Inf \n",
        "    \n",
        "    for epoch in range(1, n_epochs+1):\n",
        "        # initialize variables to monitor training and validation loss\n",
        "        train_loss = 0.0\n",
        "        valid_loss = 0.0\n",
        "        \n",
        "        ###################\n",
        "        # train the model #\n",
        "        ###################\n",
        "        model.train()\n",
        "        for batch_idx, (data, target) in enumerate(loaders['train']):\n",
        "            # move to GPU\n",
        "            if use_cuda:\n",
        "                data, target = data.cuda(), target.cuda()\n",
        "            ## find the loss and update the model parameters accordingly\n",
        "            ## record the average training loss, using something like\n",
        "            ## train_loss = train_loss + ((1 / (batch_idx + 1)) * (loss.data - train_loss))\n",
        "            \n",
        "            # initialize weights to zero\n",
        "            optimizer.zero_grad()\n",
        "            \n",
        "            output = model(data)\n",
        "            \n",
        "            # calculate loss\n",
        "            loss = criterion(output, target)\n",
        "            \n",
        "            # back prop\n",
        "            loss.backward()\n",
        "            \n",
        "            # grad\n",
        "            optimizer.step()\n",
        "            \n",
        "            train_loss = train_loss + ((1 / (batch_idx + 1)) * (loss.data - train_loss))\n",
        "            \n",
        "            # watch training\n",
        "            if batch_idx % 100 == 0:\n",
        "                print('Epoch %d, Batch %d loss: %.6f' %\n",
        "                  (epoch, batch_idx + 1, train_loss))\n",
        "            \n",
        "        ######################    \n",
        "        # validate the model #\n",
        "        ######################\n",
        "        model.eval()\n",
        "        for batch_idx, (data, target) in enumerate(loaders['valid']):\n",
        "            # move to GPU\n",
        "            if use_cuda:\n",
        "                data, target = data.cuda(), target.cuda()\n",
        "            ## update the average validation loss\n",
        "            \n",
        "            output = model(data)\n",
        "            loss = criterion(output, target)\n",
        "            valid_loss = valid_loss + ((1 / (batch_idx + 1)) * (loss.data - valid_loss))\n",
        "\n",
        "            \n",
        "        # print training/validation statistics \n",
        "        print('Epoch: {} \\tTraining Loss: {:.6f} \\tValidation Loss: {:.6f}'.format(\n",
        "            epoch, \n",
        "            train_loss,\n",
        "            valid_loss\n",
        "            ))\n",
        "        \n",
        "        ## TODO: save the model if validation loss has decreased\n",
        "        \n",
        "        if valid_loss < valid_loss_min:\n",
        "            torch.save(model.state_dict(), save_path)\n",
        "            print('Validation loss decreased ({:.6f} --> {:.6f}).  Saving model ...'.format(\n",
        "            valid_loss_min,\n",
        "            valid_loss))\n",
        "            valid_loss_min = valid_loss\n",
        "            \n",
        "    # return trained model\n",
        "    return model"
      ],
      "execution_count": null,
      "outputs": []
    },
    {
      "cell_type": "code",
      "metadata": {
        "id": "s6igTsOoePJG"
      },
      "source": [
        "from PIL import ImageFile\n",
        "ImageFile.LOAD_TRUNCATED_IMAGES = True"
      ],
      "execution_count": null,
      "outputs": []
    },
    {
      "cell_type": "code",
      "metadata": {
        "id": "nvLK9dORd8E4",
        "outputId": "315b4e9d-f3f9-463a-b5e5-cd7afd8d3c55",
        "colab": {
          "base_uri": "https://localhost:8080/",
          "height": 1000
        }
      },
      "source": [
        "# train the model\n",
        "model_transfer =  train(20, loaders_transfer, model_transfer, optimizer_transfer, criterion_transfer, use_cuda, 'model_transfer.pt')"
      ],
      "execution_count": null,
      "outputs": [
        {
          "output_type": "stream",
          "text": [
            "Epoch 1, Batch 1 loss: 4.553531\n",
            "Epoch 1, Batch 101 loss: 4.486275\n",
            "Epoch 1, Batch 201 loss: 4.456202\n",
            "Epoch 1, Batch 301 loss: 4.434630\n",
            "Epoch: 1 \tTraining Loss: 4.426744 \tValidation Loss: 4.194981\n",
            "Validation loss decreased (inf --> 4.194981).  Saving model ...\n",
            "Epoch 2, Batch 1 loss: 4.525235\n",
            "Epoch 2, Batch 101 loss: 4.319522\n",
            "Epoch 2, Batch 201 loss: 4.289318\n",
            "Epoch 2, Batch 301 loss: 4.270360\n",
            "Epoch: 2 \tTraining Loss: 4.259760 \tValidation Loss: 3.975747\n",
            "Validation loss decreased (4.194981 --> 3.975747).  Saving model ...\n",
            "Epoch 3, Batch 1 loss: 3.907550\n",
            "Epoch 3, Batch 101 loss: 4.138761\n",
            "Epoch 3, Batch 201 loss: 4.134860\n",
            "Epoch 3, Batch 301 loss: 4.112521\n",
            "Epoch: 3 \tTraining Loss: 4.104725 \tValidation Loss: 3.777662\n",
            "Validation loss decreased (3.975747 --> 3.777662).  Saving model ...\n",
            "Epoch 4, Batch 1 loss: 3.780503\n",
            "Epoch 4, Batch 101 loss: 3.982983\n",
            "Epoch 4, Batch 201 loss: 3.971253\n",
            "Epoch 4, Batch 301 loss: 3.948618\n",
            "Epoch: 4 \tTraining Loss: 3.943004 \tValidation Loss: 3.569934\n",
            "Validation loss decreased (3.777662 --> 3.569934).  Saving model ...\n",
            "Epoch 5, Batch 1 loss: 3.742176\n",
            "Epoch 5, Batch 101 loss: 3.836739\n",
            "Epoch 5, Batch 201 loss: 3.820368\n",
            "Epoch 5, Batch 301 loss: 3.818060\n",
            "Epoch: 5 \tTraining Loss: 3.811380 \tValidation Loss: 3.420318\n",
            "Validation loss decreased (3.569934 --> 3.420318).  Saving model ...\n",
            "Epoch 6, Batch 1 loss: 3.607796\n",
            "Epoch 6, Batch 101 loss: 3.708152\n",
            "Epoch 6, Batch 201 loss: 3.693176\n",
            "Epoch 6, Batch 301 loss: 3.675232\n",
            "Epoch: 6 \tTraining Loss: 3.668625 \tValidation Loss: 3.239617\n",
            "Validation loss decreased (3.420318 --> 3.239617).  Saving model ...\n",
            "Epoch 7, Batch 1 loss: 3.716883\n",
            "Epoch 7, Batch 101 loss: 3.579645\n",
            "Epoch 7, Batch 201 loss: 3.559133\n",
            "Epoch 7, Batch 301 loss: 3.535948\n",
            "Epoch: 7 \tTraining Loss: 3.532993 \tValidation Loss: 3.083225\n",
            "Validation loss decreased (3.239617 --> 3.083225).  Saving model ...\n",
            "Epoch 8, Batch 1 loss: 3.435926\n",
            "Epoch 8, Batch 101 loss: 3.445755\n",
            "Epoch 8, Batch 201 loss: 3.427443\n",
            "Epoch 8, Batch 301 loss: 3.420533\n",
            "Epoch: 8 \tTraining Loss: 3.410219 \tValidation Loss: 2.921672\n",
            "Validation loss decreased (3.083225 --> 2.921672).  Saving model ...\n",
            "Epoch 9, Batch 1 loss: 3.510768\n",
            "Epoch 9, Batch 101 loss: 3.337366\n",
            "Epoch 9, Batch 201 loss: 3.330148\n",
            "Epoch 9, Batch 301 loss: 3.311530\n",
            "Epoch: 9 \tTraining Loss: 3.300326 \tValidation Loss: 2.790503\n",
            "Validation loss decreased (2.921672 --> 2.790503).  Saving model ...\n",
            "Epoch 10, Batch 1 loss: 3.154195\n",
            "Epoch 10, Batch 101 loss: 3.242406\n",
            "Epoch 10, Batch 201 loss: 3.218924\n",
            "Epoch 10, Batch 301 loss: 3.202649\n",
            "Epoch: 10 \tTraining Loss: 3.198830 \tValidation Loss: 2.666773\n",
            "Validation loss decreased (2.790503 --> 2.666773).  Saving model ...\n",
            "Epoch 11, Batch 1 loss: 3.289958\n",
            "Epoch 11, Batch 101 loss: 3.109943\n",
            "Epoch 11, Batch 201 loss: 3.101393\n",
            "Epoch 11, Batch 301 loss: 3.097120\n",
            "Epoch: 11 \tTraining Loss: 3.093857 \tValidation Loss: 2.536812\n",
            "Validation loss decreased (2.666773 --> 2.536812).  Saving model ...\n",
            "Epoch 12, Batch 1 loss: 2.703547\n",
            "Epoch 12, Batch 101 loss: 3.035442\n",
            "Epoch 12, Batch 201 loss: 3.014962\n",
            "Epoch 12, Batch 301 loss: 2.999808\n",
            "Epoch: 12 \tTraining Loss: 2.997590 \tValidation Loss: 2.396578\n",
            "Validation loss decreased (2.536812 --> 2.396578).  Saving model ...\n",
            "Epoch 13, Batch 1 loss: 2.856451\n",
            "Epoch 13, Batch 101 loss: 2.942647\n",
            "Epoch 13, Batch 201 loss: 2.929996\n",
            "Epoch 13, Batch 301 loss: 2.904453\n",
            "Epoch: 13 \tTraining Loss: 2.906129 \tValidation Loss: 2.311172\n",
            "Validation loss decreased (2.396578 --> 2.311172).  Saving model ...\n",
            "Epoch 14, Batch 1 loss: 3.147480\n",
            "Epoch 14, Batch 101 loss: 2.830378\n",
            "Epoch 14, Batch 201 loss: 2.832151\n",
            "Epoch 14, Batch 301 loss: 2.820226\n",
            "Epoch: 14 \tTraining Loss: 2.821310 \tValidation Loss: 2.228910\n",
            "Validation loss decreased (2.311172 --> 2.228910).  Saving model ...\n",
            "Epoch 15, Batch 1 loss: 2.662899\n",
            "Epoch 15, Batch 101 loss: 2.745527\n",
            "Epoch 15, Batch 201 loss: 2.748111\n",
            "Epoch 15, Batch 301 loss: 2.736154\n",
            "Epoch: 15 \tTraining Loss: 2.733991 \tValidation Loss: 2.097120\n",
            "Validation loss decreased (2.228910 --> 2.097120).  Saving model ...\n",
            "Epoch 16, Batch 1 loss: 2.597576\n",
            "Epoch 16, Batch 101 loss: 2.706535\n",
            "Epoch 16, Batch 201 loss: 2.673290\n",
            "Epoch 16, Batch 301 loss: 2.664285\n",
            "Epoch: 16 \tTraining Loss: 2.664467 \tValidation Loss: 2.051989\n",
            "Validation loss decreased (2.097120 --> 2.051989).  Saving model ...\n",
            "Epoch 17, Batch 1 loss: 2.211748\n",
            "Epoch 17, Batch 101 loss: 2.595694\n",
            "Epoch 17, Batch 201 loss: 2.579548\n",
            "Epoch 17, Batch 301 loss: 2.580938\n",
            "Epoch: 17 \tTraining Loss: 2.579128 \tValidation Loss: 1.954168\n",
            "Validation loss decreased (2.051989 --> 1.954168).  Saving model ...\n",
            "Epoch 18, Batch 1 loss: 2.613275\n",
            "Epoch 18, Batch 101 loss: 2.505054\n",
            "Epoch 18, Batch 201 loss: 2.500287\n",
            "Epoch 18, Batch 301 loss: 2.523106\n",
            "Epoch: 18 \tTraining Loss: 2.526694 \tValidation Loss: 1.891420\n",
            "Validation loss decreased (1.954168 --> 1.891420).  Saving model ...\n",
            "Epoch 19, Batch 1 loss: 2.422762\n",
            "Epoch 19, Batch 101 loss: 2.499668\n",
            "Epoch 19, Batch 201 loss: 2.485294\n",
            "Epoch 19, Batch 301 loss: 2.472341\n",
            "Epoch: 19 \tTraining Loss: 2.464926 \tValidation Loss: 1.814979\n",
            "Validation loss decreased (1.891420 --> 1.814979).  Saving model ...\n",
            "Epoch 20, Batch 1 loss: 2.319180\n",
            "Epoch 20, Batch 101 loss: 2.417256\n",
            "Epoch 20, Batch 201 loss: 2.415712\n",
            "Epoch 20, Batch 301 loss: 2.399516\n",
            "Epoch: 20 \tTraining Loss: 2.398829 \tValidation Loss: 1.761312\n",
            "Validation loss decreased (1.814979 --> 1.761312).  Saving model ...\n"
          ],
          "name": "stdout"
        }
      ]
    },
    {
      "cell_type": "code",
      "metadata": {
        "id": "IliQ1guAfDq6",
        "outputId": "de912c09-a8cd-4d2a-cce4-c8d3ddb0a668",
        "colab": {
          "base_uri": "https://localhost:8080/",
          "height": 34
        }
      },
      "source": [
        "# load the model that got the best validation accuracy \n",
        "model_transfer.load_state_dict(torch.load('model_transfer.pt'))"
      ],
      "execution_count": null,
      "outputs": [
        {
          "output_type": "execute_result",
          "data": {
            "text/plain": [
              "<All keys matched successfully>"
            ]
          },
          "metadata": {
            "tags": []
          },
          "execution_count": 31
        }
      ]
    },
    {
      "cell_type": "code",
      "metadata": {
        "id": "p_60sk4kfI2F"
      },
      "source": [
        "def test(loaders, model, criterion, use_cuda):\n",
        "\n",
        "    # monitor test loss and accuracy\n",
        "    test_loss = 0.\n",
        "    correct = 0.\n",
        "    total = 0.\n",
        "    \n",
        "    preds = []\n",
        "    targets = []\n",
        "    \n",
        "    model.eval()\n",
        "    for batch_idx, (data, target) in enumerate(loaders['test']):\n",
        "        # move to GPU\n",
        "        if use_cuda:\n",
        "            data, target = data.cuda(), target.cuda()\n",
        "        # forward pass: compute predicted outputs by passing inputs to the model\n",
        "        output = model(data)\n",
        "        # calculate the loss\n",
        "        loss = criterion(output, target)\n",
        "        # update average test loss \n",
        "        test_loss = test_loss + ((1 / (batch_idx + 1)) * (loss.data - test_loss))\n",
        "        # convert output probabilities to predicted class\n",
        "        pred = output.data.max(1, keepdim=True)[1]\n",
        "        preds.append(pred)\n",
        "        targets.append(target)\n",
        "        # compare predictions to true label\n",
        "        correct += np.sum(np.squeeze(pred.eq(target.data.view_as(pred))).cpu().numpy())\n",
        "        total += data.size(0)\n",
        "            \n",
        "    print('Test Loss: {:.6f}\\n'.format(test_loss))\n",
        "\n",
        "    print('\\nTest Accuracy: %2d%% (%2d/%2d)' % (\n",
        "        100. * correct / total, correct, total))\n",
        "    return preds,targets"
      ],
      "execution_count": null,
      "outputs": []
    },
    {
      "cell_type": "code",
      "metadata": {
        "id": "zfmjopVDgPr8",
        "outputId": "2b30be4f-a529-4d09-cd27-3a5ce07e10dc",
        "colab": {
          "base_uri": "https://localhost:8080/",
          "height": 84
        }
      },
      "source": [
        "preds, gts = test(loaders_transfer, model_transfer, criterion_transfer, use_cuda)"
      ],
      "execution_count": null,
      "outputs": [
        {
          "output_type": "stream",
          "text": [
            "Test Loss: 1.714322\n",
            "\n",
            "\n",
            "Test Accuracy: 74% (626/836)\n"
          ],
          "name": "stdout"
        }
      ]
    }
  ]
}