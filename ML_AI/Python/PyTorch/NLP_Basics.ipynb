{
  "nbformat": 4,
  "nbformat_minor": 0,
  "metadata": {
    "colab": {
      "name": "NLP_Basics.ipynb",
      "provenance": []
    },
    "kernelspec": {
      "name": "python3",
      "display_name": "Python 3"
    },
    "accelerator": "GPU"
  },
  "cells": [
    {
      "cell_type": "markdown",
      "metadata": {
        "id": "OwqdbT1oMCZE"
      },
      "source": [
        "## NLP Basics"
      ]
    },
    {
      "cell_type": "markdown",
      "metadata": {
        "id": "C8kyPvyjN_FY"
      },
      "source": [
        "### Loading the dataset\n",
        "In this notebook we are working on an emotion classification task. The dataset contains tweets labeled into 6 categories.\n",
        "\n",
        "First, let's load the libraries and a few utility functions that we will use to help load our data."
      ]
    },
    {
      "cell_type": "code",
      "metadata": {
        "id": "THuly31cMziw",
        "outputId": "2287fea8-f466-479c-b806-c46e99b9eb6d",
        "colab": {
          "base_uri": "https://localhost:8080/",
          "height": 34
        }
      },
      "source": [
        "## import torch \n",
        "import torch\n",
        "import matplotlib.pyplot as plt\n",
        "%matplotlib inline\n",
        "import torch.nn as nn\n",
        "\n",
        "## import other important libraries and functions\n",
        "import pickle\n",
        "\n",
        "## function to convert file to pickle format\n",
        "def convert_to_pickle(item, directory):\n",
        "    pickle.dump(item, open(directory,\"wb\"))\n",
        "\n",
        "## funtion to load pickle file\n",
        "def load_from_pickle(directory):\n",
        "    return pickle.load(open(directory,\"rb\"))\n",
        "\n",
        "print(torch.__version__)"
      ],
      "execution_count": null,
      "outputs": [
        {
          "output_type": "stream",
          "text": [
            "1.4.0\n"
          ],
          "name": "stdout"
        }
      ]
    },
    {
      "cell_type": "markdown",
      "metadata": {
        "id": "nEsWTSd6wQC_"
      },
      "source": [
        "Download the data:"
      ]
    },
    {
      "cell_type": "code",
      "metadata": {
        "id": "0M1T5Zw0JMO-",
        "outputId": "2eb4e67a-2a0c-4291-9794-f04f563d2087",
        "colab": {
          "base_uri": "https://localhost:8080/",
          "height": 445
        }
      },
      "source": [
        "!wget https://www.dropbox.com/s/607ptdakxuh5i4s/merged_training.pkl"
      ],
      "execution_count": null,
      "outputs": [
        {
          "output_type": "stream",
          "text": [
            "--2020-04-14 12:54:27--  https://www.dropbox.com/s/607ptdakxuh5i4s/merged_training.pkl\n",
            "Resolving www.dropbox.com (www.dropbox.com)... 162.125.65.1, 2620:100:6021:1::a27d:4101\n",
            "Connecting to www.dropbox.com (www.dropbox.com)|162.125.65.1|:443... connected.\n",
            "HTTP request sent, awaiting response... 301 Moved Permanently\n",
            "Location: /s/raw/607ptdakxuh5i4s/merged_training.pkl [following]\n",
            "--2020-04-14 12:54:28--  https://www.dropbox.com/s/raw/607ptdakxuh5i4s/merged_training.pkl\n",
            "Reusing existing connection to www.dropbox.com:443.\n",
            "HTTP request sent, awaiting response... 302 Found\n",
            "Location: https://uc63dfb651602b81941c473a950d.dl.dropboxusercontent.com/cd/0/inline/A13XlDQTwN9D4eeqYmU9uaZGazRXGj0KZDCI-bjef5k8JA-shd81CSea7WSxTVuGJ1TQEpmWh-43k3zAyP4Bl_u4K35z3MHnuu13K2TGOWv-RM_ES_RwIFGRPPOT6ut_sgk/file# [following]\n",
            "--2020-04-14 12:54:28--  https://uc63dfb651602b81941c473a950d.dl.dropboxusercontent.com/cd/0/inline/A13XlDQTwN9D4eeqYmU9uaZGazRXGj0KZDCI-bjef5k8JA-shd81CSea7WSxTVuGJ1TQEpmWh-43k3zAyP4Bl_u4K35z3MHnuu13K2TGOWv-RM_ES_RwIFGRPPOT6ut_sgk/file\n",
            "Resolving uc63dfb651602b81941c473a950d.dl.dropboxusercontent.com (uc63dfb651602b81941c473a950d.dl.dropboxusercontent.com)... 162.125.65.6, 2620:100:6021:6::a27d:4106\n",
            "Connecting to uc63dfb651602b81941c473a950d.dl.dropboxusercontent.com (uc63dfb651602b81941c473a950d.dl.dropboxusercontent.com)|162.125.65.6|:443... connected.\n",
            "HTTP request sent, awaiting response... 302 FOUND\n",
            "Location: /cd/0/inline2/A10p4A6Kv5hsGgVMktMp7BdkHc-Iv43Z7Cch50merXUTEwfc1ZJbc4VTFD_-clcsA2qlH06GQFT1uD3pa33dhOWU-s1_GfnyTdMB8J8AD3Hz0S6V7DiMFb4jjMDZhXMEYpqket46MffPYRrPEJUgLrPBHoNntDNH90JoICFzZLrtW-xbnrn-23K7mRiqA0sfhmgMmbXp6m5mcKQCHc1WsOjpUM83vfzWqn9nB4O6UZy1kBef3JArOXj-9XCvpaQODSFXmMOs5-1WptQYIRLFv8SoaGI3n2AEnLNDZRNY5lFa642nEsTnpf_wgGDsxYyImWmrHLJQQv1xx_Izsxv0dhlrUKFnPmoBoVntLZKVT0DZFQ/file [following]\n",
            "--2020-04-14 12:54:29--  https://uc63dfb651602b81941c473a950d.dl.dropboxusercontent.com/cd/0/inline2/A10p4A6Kv5hsGgVMktMp7BdkHc-Iv43Z7Cch50merXUTEwfc1ZJbc4VTFD_-clcsA2qlH06GQFT1uD3pa33dhOWU-s1_GfnyTdMB8J8AD3Hz0S6V7DiMFb4jjMDZhXMEYpqket46MffPYRrPEJUgLrPBHoNntDNH90JoICFzZLrtW-xbnrn-23K7mRiqA0sfhmgMmbXp6m5mcKQCHc1WsOjpUM83vfzWqn9nB4O6UZy1kBef3JArOXj-9XCvpaQODSFXmMOs5-1WptQYIRLFv8SoaGI3n2AEnLNDZRNY5lFa642nEsTnpf_wgGDsxYyImWmrHLJQQv1xx_Izsxv0dhlrUKFnPmoBoVntLZKVT0DZFQ/file\n",
            "Reusing existing connection to uc63dfb651602b81941c473a950d.dl.dropboxusercontent.com:443.\n",
            "HTTP request sent, awaiting response... 200 OK\n",
            "Length: 49991846 (48M) [application/octet-stream]\n",
            "Saving to: ‘merged_training.pkl’\n",
            "\n",
            "merged_training.pkl 100%[===================>]  47.68M  64.4MB/s    in 0.7s    \n",
            "\n",
            "2020-04-14 12:54:30 (64.4 MB/s) - ‘merged_training.pkl’ saved [49991846/49991846]\n",
            "\n"
          ],
          "name": "stdout"
        }
      ]
    },
    {
      "cell_type": "code",
      "metadata": {
        "id": "6P9vJ5Qirqrb",
        "outputId": "ce7ab09a-fc11-44e7-f38d-441be19f2606",
        "colab": {
          "base_uri": "https://localhost:8080/",
          "height": 313
        }
      },
      "source": [
        "## load the data\n",
        "## note we are using the utility function we defined above\n",
        "\n",
        "data = load_from_pickle(directory=\"merged_training.pkl\")\n",
        "data.emotions.value_counts().plot.bar()"
      ],
      "execution_count": null,
      "outputs": [
        {
          "output_type": "execute_result",
          "data": {
            "text/plain": [
              "<matplotlib.axes._subplots.AxesSubplot at 0x7f78ad9b6198>"
            ]
          },
          "metadata": {
            "tags": []
          },
          "execution_count": 3
        },
        {
          "output_type": "display_data",
          "data": {
            "image/png": "[encoded data removed]",
            "text/plain": [
              "<Figure size 432x288 with 1 Axes>"
            ]
          },
          "metadata": {
            "tags": [],
            "needs_background": "light"
          }
        }
      ]
    },
    {
      "cell_type": "markdown",
      "metadata": {
        "id": "tEOu4o6QxAP2"
      },
      "source": [
        "After a quick glance at the data you will see that it is already preprocessed. Preprocessing is based on my papers which you can find [here](https://www.aclweb.org/anthology/D18-1404/). If you used this data for research purposes, please considering citing the paper:\n",
        "\n",
        "```json\n",
        "@inproceedings{saravia-etal-2018-carer,\n",
        "    title = \"{CARER}: Contextualized Affect Representations for Emotion Recognition\",\n",
        "    author = \"Saravia, Elvis  and\n",
        "      Liu, Hsien-Chi Toby  and\n",
        "      Huang, Yen-Hao  and\n",
        "      Wu, Junlin  and\n",
        "      Chen, Yi-Shin\",\n",
        "    booktitle = \"Proceedings of the 2018 Conference on Empirical Methods in Natural Language Processing\"\n",
        "    year = \"2018\",\n",
        "    address = \"Brussels, Belgium\",\n",
        "    publisher = \"Association for Computational Linguistics\",\n",
        "    url = \"https://www.aclweb.org/anthology/D18-1404\",\n",
        "    doi = \"10.18653/v1/D18-1404\",\n",
        "    pages = \"3687--3697\"\n",
        "}\n",
        "```"
      ]
    },
    {
      "cell_type": "code",
      "metadata": {
        "id": "cNPzFux_y5C8",
        "outputId": "8847045c-2c37-4ee3-ecd5-0d6695e96c5e",
        "colab": {
          "base_uri": "https://localhost:8080/",
          "height": 34
        }
      },
      "source": [
        "len(data)"
      ],
      "execution_count": null,
      "outputs": [
        {
          "output_type": "execute_result",
          "data": {
            "text/plain": [
              "416809"
            ]
          },
          "metadata": {
            "tags": []
          },
          "execution_count": 6
        }
      ]
    },
    {
      "cell_type": "code",
      "metadata": {
        "id": "AKDg-XVysVVI",
        "outputId": "9212f236-4534-400d-f16d-c4698adbfc04",
        "colab": {
          "base_uri": "https://localhost:8080/",
          "height": 359
        }
      },
      "source": [
        "## preview the first 10 docs\n",
        "data.head(10)"
      ],
      "execution_count": null,
      "outputs": [
        {
          "output_type": "execute_result",
          "data": {
            "text/html": [
              "<div>\n",
              "<style scoped>\n",
              "    .dataframe tbody tr th:only-of-type {\n",
              "        vertical-align: middle;\n",
              "    }\n",
              "\n",
              "    .dataframe tbody tr th {\n",
              "        vertical-align: top;\n",
              "    }\n",
              "\n",
              "    .dataframe thead th {\n",
              "        text-align: right;\n",
              "    }\n",
              "</style>\n",
              "<table border=\"1\" class=\"dataframe\">\n",
              "  <thead>\n",
              "    <tr style=\"text-align: right;\">\n",
              "      <th></th>\n",
              "      <th>text</th>\n",
              "      <th>emotions</th>\n",
              "    </tr>\n",
              "  </thead>\n",
              "  <tbody>\n",
              "    <tr>\n",
              "      <th>27383</th>\n",
              "      <td>i feel awful about it too because it s my job ...</td>\n",
              "      <td>sadness</td>\n",
              "    </tr>\n",
              "    <tr>\n",
              "      <th>110083</th>\n",
              "      <td>im alone i feel awful</td>\n",
              "      <td>sadness</td>\n",
              "    </tr>\n",
              "    <tr>\n",
              "      <th>140764</th>\n",
              "      <td>ive probably mentioned this before but i reall...</td>\n",
              "      <td>joy</td>\n",
              "    </tr>\n",
              "    <tr>\n",
              "      <th>100071</th>\n",
              "      <td>i was feeling a little low few days back</td>\n",
              "      <td>sadness</td>\n",
              "    </tr>\n",
              "    <tr>\n",
              "      <th>2837</th>\n",
              "      <td>i beleive that i am much more sensitive to oth...</td>\n",
              "      <td>love</td>\n",
              "    </tr>\n",
              "    <tr>\n",
              "      <th>18231</th>\n",
              "      <td>i find myself frustrated with christians becau...</td>\n",
              "      <td>love</td>\n",
              "    </tr>\n",
              "    <tr>\n",
              "      <th>10714</th>\n",
              "      <td>i am one of those people who feels like going ...</td>\n",
              "      <td>joy</td>\n",
              "    </tr>\n",
              "    <tr>\n",
              "      <th>35177</th>\n",
              "      <td>i feel especially pleased about this as this h...</td>\n",
              "      <td>joy</td>\n",
              "    </tr>\n",
              "    <tr>\n",
              "      <th>122177</th>\n",
              "      <td>i was struggling with these awful feelings and...</td>\n",
              "      <td>joy</td>\n",
              "    </tr>\n",
              "    <tr>\n",
              "      <th>26723</th>\n",
              "      <td>i feel so enraged but helpless at the same time</td>\n",
              "      <td>anger</td>\n",
              "    </tr>\n",
              "  </tbody>\n",
              "</table>\n",
              "</div>"
            ],
            "text/plain": [
              "                                                     text emotions\n",
              "27383   i feel awful about it too because it s my job ...  sadness\n",
              "110083                              im alone i feel awful  sadness\n",
              "140764  ive probably mentioned this before but i reall...      joy\n",
              "100071           i was feeling a little low few days back  sadness\n",
              "2837    i beleive that i am much more sensitive to oth...     love\n",
              "18231   i find myself frustrated with christians becau...     love\n",
              "10714   i am one of those people who feels like going ...      joy\n",
              "35177   i feel especially pleased about this as this h...      joy\n",
              "122177  i was struggling with these awful feelings and...      joy\n",
              "26723     i feel so enraged but helpless at the same time    anger"
            ]
          },
          "metadata": {
            "tags": []
          },
          "execution_count": 5
        }
      ]
    },
    {
      "cell_type": "markdown",
      "metadata": {
        "id": "KklIDotNsa0i"
      },
      "source": [
        "## Tokenizing and Sampling\n",
        "In the next steps we are going to **tokenize** our pieces of text, create index mapping for words, and also construct a vocabulary."
      ]
    },
    {
      "cell_type": "code",
      "metadata": {
        "id": "00VAgTFSuKHN",
        "outputId": "716c8b8b-c720-4509-c353-b385bac173db",
        "colab": {
          "base_uri": "https://localhost:8080/",
          "height": 204
        }
      },
      "source": [
        "## retain only text that contain less that 70 tokens to avoid too much padding\n",
        "data[\"token_size\"] = data[\"text\"].apply(lambda x: len(x.split(' ')))\n",
        "data = data.loc[data['token_size'] < 70].copy()\n",
        "\n",
        "## sampling; we don't need to use the entire data as we only want to show you\n",
        "## the tokenization/batch preparation process\n",
        "data = data.sample(n=50000);\n",
        "\n",
        "print(data.head(10))"
      ],
      "execution_count": null,
      "outputs": [
        {
          "output_type": "stream",
          "text": [
            "                                                     text emotions  token_size\n",
            "34736   i start to lose that sense of independence in ...     fear          19\n",
            "26622   i feel as if they are talking bad about me beh...  sadness          13\n",
            "38867                i feel honoured to be your companion      joy           7\n",
            "21834   i didnt feel pressure to be perfect and i didn...      joy          18\n",
            "32713   im feeling quite nostalgic today as if the onl...     love          44\n",
            "103307  i was positively giddy when the kids left this...  sadness          26\n",
            "36268                        i feel fine and no labor yet      joy           7\n",
            "57010   ive fallen into the fickle feeling trap that i...    anger          21\n",
            "71172   i have let go of those silly qualities and hav...  sadness          30\n",
            "47812   i feel numb to the anguish that is being repea...  sadness          17\n"
          ],
          "name": "stdout"
        }
      ]
    },
    {
      "cell_type": "markdown",
      "metadata": {
        "id": "Vo6WRUcdsGt_"
      },
      "source": [
        "### Building Vocabulary\n",
        "After tokenizing text, it's time to build the vocabulary, which is used to determine the features that we will be using to train the models.\n",
        "\n",
        "The code below takes create of creating the vocabulary. The code you see below is standard code you will see in many tutorials. Take some time to understand the intuition behind it.\n"
      ]
    },
    {
      "cell_type": "code",
      "metadata": {
        "id": "OqcA6SwysfrZ"
      },
      "source": [
        "## This class creates a word -> index mapping (e.g,. \"dad\" -> 5) and vice-versa \n",
        "## (e.g., 5 -> \"dad\") for the dataset\n",
        "class ConstructVocab():\n",
        "    def __init__(self, sentences):\n",
        "        self.sentences = sentences\n",
        "        self.word2idx = {}\n",
        "        self.idx2word = {}\n",
        "        self.vocab = set()\n",
        "        self.create_index()\n",
        "        \n",
        "    def create_index(self):\n",
        "        for s in self.sentences:\n",
        "            # update with individual tokens\n",
        "            self.vocab.update(s.split(' '))\n",
        "            \n",
        "        # sort the vocab\n",
        "        self.vocab = sorted(self.vocab)\n",
        "\n",
        "        # add a padding token with index 0\n",
        "        self.word2idx['<pad>'] = 0\n",
        "        \n",
        "        # word to index mapping\n",
        "        for index, word in enumerate(self.vocab):\n",
        "            self.word2idx[word] = index + 1 # +1 because of pad token\n",
        "        \n",
        "        # index to word mapping\n",
        "        for word, index in self.word2idx.items():\n",
        "            self.idx2word[index] = word  "
      ],
      "execution_count": null,
      "outputs": []
    },
    {
      "cell_type": "code",
      "metadata": {
        "id": "3dydcpAItEFY",
        "outputId": "21f1fc3f-0334-4468-a964-d4a41dffa929",
        "colab": {
          "base_uri": "https://localhost:8080/",
          "height": 187
        }
      },
      "source": [
        "## construct vocab and indexing\n",
        "inputs = ConstructVocab(data[\"text\"].values.tolist())\n",
        "\n",
        "## examples of what is in the vocab\n",
        "inputs.vocab[0:10]"
      ],
      "execution_count": null,
      "outputs": [
        {
          "output_type": "execute_result",
          "data": {
            "text/plain": [
              "['a',\n",
              " 'aa',\n",
              " 'aaa',\n",
              " 'aaaa',\n",
              " 'aaand',\n",
              " 'aaawesome',\n",
              " 'aactually',\n",
              " 'aaron',\n",
              " 'aaryn',\n",
              " 'ab']"
            ]
          },
          "metadata": {
            "tags": []
          },
          "execution_count": 10
        }
      ]
    },
    {
      "cell_type": "code",
      "metadata": {
        "id": "noJhZ7uW8-Yi",
        "outputId": "2fc8e6e6-6855-4e94-890e-6f4b366128d2",
        "colab": {
          "base_uri": "https://localhost:8080/",
          "height": 34
        }
      },
      "source": [
        "## obtain id of token\n",
        "inputs.word2idx['a']"
      ],
      "execution_count": null,
      "outputs": [
        {
          "output_type": "execute_result",
          "data": {
            "text/plain": [
              "1"
            ]
          },
          "metadata": {
            "tags": []
          },
          "execution_count": 11
        }
      ]
    },
    {
      "cell_type": "code",
      "metadata": {
        "id": "uakzZovn9PfF",
        "outputId": "db1b996e-579d-4643-bffc-9f797f1aa84b",
        "colab": {
          "base_uri": "https://localhost:8080/",
          "height": 34
        }
      },
      "source": [
        "## you can do the reverse now -- obtain the token via the id\n",
        "inputs.idx2word[1]"
      ],
      "execution_count": null,
      "outputs": [
        {
          "output_type": "execute_result",
          "data": {
            "text/plain": [
              "'a'"
            ]
          },
          "metadata": {
            "tags": []
          },
          "execution_count": 13
        }
      ]
    },
    {
      "cell_type": "markdown",
      "metadata": {
        "id": "wmBNdiaOtCx8"
      },
      "source": [
        "### Converting Data Into Tensors\n",
        "Now that we have created our vocab, we can now try to convert the text input into a tensor format, which inolves a vectorization processing using those vocab ids defined above.\n",
        "\n",
        "Let's try:"
      ]
    },
    {
      "cell_type": "code",
      "metadata": {
        "id": "dv7I8IxwtgvH"
      },
      "source": [
        "## vectorize to tensor\n",
        "input_tensor = [[inputs.word2idx[s] for s in es.split(' ')]  for es in data[\"text\"].values.tolist()]"
      ],
      "execution_count": null,
      "outputs": []
    },
    {
      "cell_type": "code",
      "metadata": {
        "id": "oSz-Fk9nu_3L",
        "outputId": "75d865e4-4b34-42d3-bfb3-f4cf8d7572d5",
        "colab": {
          "base_uri": "https://localhost:8080/",
          "height": 561
        }
      },
      "source": [
        "## examples of what is in the input tensors\n",
        "input_tensor[0:2]"
      ],
      "execution_count": null,
      "outputs": [
        {
          "output_type": "execute_result",
          "data": {
            "text/plain": [
              "[[11658,\n",
              "  22968,\n",
              "  24644,\n",
              "  14242,\n",
              "  24282,\n",
              "  21334,\n",
              "  16663,\n",
              "  12059,\n",
              "  11951,\n",
              "  24282,\n",
              "  11658,\n",
              "  8746,\n",
              "  1,\n",
              "  14252,\n",
              "  15583,\n",
              "  11106,\n",
              "  24644,\n",
              "  6896,\n",
              "  24370],\n",
              " [11658,\n",
              "  8746,\n",
              "  1308,\n",
              "  11725,\n",
              "  24352,\n",
              "  1198,\n",
              "  23938,\n",
              "  1749,\n",
              "  61,\n",
              "  14877,\n",
              "  2145,\n",
              "  15861,\n",
              "  1718]]"
            ]
          },
          "metadata": {
            "tags": []
          },
          "execution_count": 16
        }
      ]
    },
    {
      "cell_type": "markdown",
      "metadata": {
        "id": "t5JKHBU3AD6K"
      },
      "source": [
        "---\n",
        "### EXCERCISE - Obtaining Tensor Representation\n",
        "\n",
        "Convert the following sentences into their corresponding tensor representations. \n",
        "\n",
        "In addition, try to combine/merge the representations into one tensor.\n",
        "\n",
        "---"
      ]
    },
    {
      "cell_type": "code",
      "metadata": {
        "id": "yPviFVESAboT"
      },
      "source": [
        "sent1 = \"Hello! how is everthing doing?\"\n",
        "sent2 = \"I am doing okay\"\n",
        "\n",
        "### YOUR CODE HERE\n",
        "\n",
        "### YOUR CODE HERE"
      ],
      "execution_count": null,
      "outputs": []
    },
    {
      "cell_type": "markdown",
      "metadata": {
        "id": "XE177iRu0JP7"
      },
      "source": [
        "### Padding Data\n",
        "In order to train our recurrent neural network (RNN) model for text classification (prsented in the next notebook), we require some type of padding to generate inputs of same length. RNNs expect inputs of same lenght."
      ]
    },
    {
      "cell_type": "code",
      "metadata": {
        "id": "wX-3r5bG0OUI"
      },
      "source": [
        "## function to find max lenght of batch\n",
        "def max_length(tensor):\n",
        "    return max(len(t) for t in tensor)"
      ],
      "execution_count": null,
      "outputs": []
    },
    {
      "cell_type": "code",
      "metadata": {
        "id": "WkabN8w30Q1U",
        "outputId": "b171529a-0bf7-4b0f-ca5f-73dd75c477ea",
        "colab": {
          "base_uri": "https://localhost:8080/",
          "height": 34
        }
      },
      "source": [
        "## calculate the max_length of input tensor\n",
        "max_length_inp = max_length(input_tensor)\n",
        "print(max_length_inp)"
      ],
      "execution_count": null,
      "outputs": [
        {
          "output_type": "stream",
          "text": [
            "69\n"
          ],
          "name": "stdout"
        }
      ]
    },
    {
      "cell_type": "code",
      "metadata": {
        "id": "hcoGiba20TvZ"
      },
      "source": [
        "## padding sequences\n",
        "\n",
        "import numpy as np\n",
        "\n",
        "def pad_sequences(x, max_len):\n",
        "    padded = np.zeros((max_len), dtype=np.int64)\n",
        "    if len(x) > max_len: padded[:] = x[:max_len]\n",
        "    else: padded[:len(x)] = x\n",
        "    return padded"
      ],
      "execution_count": null,
      "outputs": []
    },
    {
      "cell_type": "code",
      "metadata": {
        "id": "dDN-PU-i0VVM"
      },
      "source": [
        "## inplace padding\n",
        "input_tensor = [pad_sequences(x, max_length_inp) for x in input_tensor]"
      ],
      "execution_count": null,
      "outputs": []
    },
    {
      "cell_type": "markdown",
      "metadata": {
        "id": "B6nGnvvABES2"
      },
      "source": [
        "---\n",
        "### EXERCISE\n",
        "\n",
        "Pad the tensor you created in the previous exercise for `sent1` and `sent2`.\n",
        "\n",
        "\n",
        "---"
      ]
    },
    {
      "cell_type": "code",
      "metadata": {
        "id": "JRum83KN0cqP",
        "outputId": "5d4ec330-bc8a-45c6-d0c5-135ee46e4e59",
        "colab": {
          "base_uri": "https://localhost:8080/",
          "height": 289
        }
      },
      "source": [
        "## check padded sequences for first two examples\n",
        "input_tensor[0:2]"
      ],
      "execution_count": null,
      "outputs": [
        {
          "output_type": "execute_result",
          "data": {
            "text/plain": [
              "[array([11658, 22968, 24644, 14242, 24282, 21334, 16663, 12059, 11951,\n",
              "        24282, 11658,  8746,     1, 14252, 15583, 11106, 24644,  6896,\n",
              "        24370,     0,     0,     0,     0,     0,     0,     0,     0,\n",
              "            0,     0,     0,     0,     0,     0,     0,     0,     0,\n",
              "            0,     0,     0,     0,     0,     0,     0,     0,     0,\n",
              "            0,     0,     0,     0,     0,     0,     0,     0,     0,\n",
              "            0,     0,     0,     0,     0,     0,     0,     0,     0,\n",
              "            0,     0,     0,     0,     0,     0]),\n",
              " array([11658,  8746,  1308, 11725, 24352,  1198, 23938,  1749,    61,\n",
              "        14877,  2145, 15861,  1718,     0,     0,     0,     0,     0,\n",
              "            0,     0,     0,     0,     0,     0,     0,     0,     0,\n",
              "            0,     0,     0,     0,     0,     0,     0,     0,     0,\n",
              "            0,     0,     0,     0,     0,     0,     0,     0,     0,\n",
              "            0,     0,     0,     0,     0,     0,     0,     0,     0,\n",
              "            0,     0,     0,     0,     0,     0,     0,     0,     0,\n",
              "            0,     0,     0,     0,     0,     0])]"
            ]
          },
          "metadata": {
            "tags": []
          },
          "execution_count": 22
        }
      ]
    },
    {
      "cell_type": "markdown",
      "metadata": {
        "id": "cg0jfvUw0ft6"
      },
      "source": [
        "### Binarization\n",
        "We would like to binarize our `target` values in our dataset so that we can obtain `one-hot encodings` for the target values. "
      ]
    },
    {
      "cell_type": "code",
      "metadata": {
        "id": "3eneDYVk0emN"
      },
      "source": [
        "import time\n",
        "from sklearn import preprocessing\n",
        "from sklearn.model_selection import train_test_split\n",
        "import itertools\n",
        "import pandas as pd\n",
        "from scipy import stats\n",
        "from sklearn import metrics\n",
        "from sklearn.preprocessing import LabelEncoder\n",
        "\n",
        "## convert targets to one-hot encoding vectors\n",
        "emotions = list(set(data.emotions.unique()))\n",
        "num_emotions = len(emotions)\n",
        "\n",
        "## binarizer\n",
        "mlb = preprocessing.MultiLabelBinarizer()\n",
        "data_labels =  [set(emos) & set(emotions) for emos in data[['emotions']].values]\n",
        "bin_emotions = mlb.fit_transform(data_labels)\n",
        "target_tensor = np.array(bin_emotions.tolist())"
      ],
      "execution_count": null,
      "outputs": []
    },
    {
      "cell_type": "code",
      "metadata": {
        "id": "eXKs54VU02-a",
        "outputId": "4d2fa714-4da7-4b15-8de0-4086dfe6a26e",
        "colab": {
          "base_uri": "https://localhost:8080/",
          "height": 51
        }
      },
      "source": [
        "## print the one-hot encodings for the first two examples in the dataset\n",
        "target_tensor[0:2] "
      ],
      "execution_count": null,
      "outputs": [
        {
          "output_type": "execute_result",
          "data": {
            "text/plain": [
              "array([[0, 1, 0, 0, 0, 0],\n",
              "       [0, 0, 0, 0, 1, 0]])"
            ]
          },
          "metadata": {
            "tags": []
          },
          "execution_count": 28
        }
      ]
    },
    {
      "cell_type": "code",
      "metadata": {
        "id": "_0D6n29607e6",
        "outputId": "9172c2bb-6318-443f-f68f-c0006f3f2d2a",
        "colab": {
          "base_uri": "https://localhost:8080/",
          "height": 111
        }
      },
      "source": [
        "## we can easily check the original values for the first two piece of text\n",
        "data[0:2]"
      ],
      "execution_count": null,
      "outputs": [
        {
          "output_type": "execute_result",
          "data": {
            "text/html": [
              "<div>\n",
              "<style scoped>\n",
              "    .dataframe tbody tr th:only-of-type {\n",
              "        vertical-align: middle;\n",
              "    }\n",
              "\n",
              "    .dataframe tbody tr th {\n",
              "        vertical-align: top;\n",
              "    }\n",
              "\n",
              "    .dataframe thead th {\n",
              "        text-align: right;\n",
              "    }\n",
              "</style>\n",
              "<table border=\"1\" class=\"dataframe\">\n",
              "  <thead>\n",
              "    <tr style=\"text-align: right;\">\n",
              "      <th></th>\n",
              "      <th>text</th>\n",
              "      <th>emotions</th>\n",
              "      <th>token_size</th>\n",
              "    </tr>\n",
              "  </thead>\n",
              "  <tbody>\n",
              "    <tr>\n",
              "      <th>34736</th>\n",
              "      <td>i start to lose that sense of independence in ...</td>\n",
              "      <td>fear</td>\n",
              "      <td>19</td>\n",
              "    </tr>\n",
              "    <tr>\n",
              "      <th>26622</th>\n",
              "      <td>i feel as if they are talking bad about me beh...</td>\n",
              "      <td>sadness</td>\n",
              "      <td>13</td>\n",
              "    </tr>\n",
              "  </tbody>\n",
              "</table>\n",
              "</div>"
            ],
            "text/plain": [
              "                                                    text emotions  token_size\n",
              "34736  i start to lose that sense of independence in ...     fear          19\n",
              "26622  i feel as if they are talking bad about me beh...  sadness          13"
            ]
          },
          "metadata": {
            "tags": []
          },
          "execution_count": 29
        }
      ]
    },
    {
      "cell_type": "code",
      "metadata": {
        "id": "KeTtZBzL0-ew",
        "outputId": "d479f3a1-d3a0-4ac5-fa04-037cca04252a",
        "colab": {
          "base_uri": "https://localhost:8080/",
          "height": 34
        }
      },
      "source": [
        "## we can easily find the emotion index for instance of the first example above: fear\n",
        "get_emotion = lambda t: np.argmax(t)\n",
        "get_emotion(target_tensor[0])"
      ],
      "execution_count": null,
      "outputs": [
        {
          "output_type": "execute_result",
          "data": {
            "text/plain": [
              "1"
            ]
          },
          "metadata": {
            "tags": []
          },
          "execution_count": 32
        }
      ]
    },
    {
      "cell_type": "code",
      "metadata": {
        "id": "se7sspEn1Dw1",
        "outputId": "3a262180-c125-42e5-ef85-342105d33fb0",
        "colab": {
          "base_uri": "https://localhost:8080/",
          "height": 34
        }
      },
      "source": [
        "## pass that index to a key/value object to obtain the original emotion \n",
        "emotion_dict = {0: 'anger', 1: 'fear', 2: 'joy', 3: 'love', 4: 'sadness', 5: 'surprise'}\n",
        "emotion_dict[get_emotion(target_tensor[0])]"
      ],
      "execution_count": null,
      "outputs": [
        {
          "output_type": "execute_result",
          "data": {
            "text/plain": [
              "'fear'"
            ]
          },
          "metadata": {
            "tags": []
          },
          "execution_count": 33
        }
      ]
    },
    {
      "cell_type": "markdown",
      "metadata": {
        "id": "0dvn5kjn1KKg"
      },
      "source": [
        "### Split Data\n",
        "\n",
        "We would like to split our data into a train and validation set. In addition, we also want a holdout dataset (test set) for evaluating the models.\n",
        "\n",
        "Let's do that below. We are going to use the built in `train_test_split` dataset from scikit learn. Let's do that below:"
      ]
    },
    {
      "cell_type": "code",
      "metadata": {
        "id": "Th4wBMUR1YuR",
        "outputId": "159b70af-98e7-4f99-b610-d1811a5cbe0e",
        "colab": {
          "base_uri": "https://localhost:8080/",
          "height": 34
        }
      },
      "source": [
        "## Creating training and validation sets using an 80-20 split\n",
        "input_tensor_train, input_tensor_val, target_tensor_train, target_tensor_val = train_test_split(input_tensor, target_tensor, test_size=0.2)\n",
        "\n",
        "## Split the validataion further to obtain a holdout dataset (for testing) -- split 50:50\n",
        "input_tensor_val, input_tensor_test, target_tensor_val, target_tensor_test = train_test_split(input_tensor_val, target_tensor_val, test_size=0.5)\n",
        "\n",
        "## Show length\n",
        "len(input_tensor_train), len(target_tensor_train), len(input_tensor_val), len(target_tensor_val), len(input_tensor_test), len(target_tensor_test)"
      ],
      "execution_count": null,
      "outputs": [
        {
          "output_type": "execute_result",
          "data": {
            "text/plain": [
              "(40000, 40000, 5000, 5000, 5000, 5000)"
            ]
          },
          "metadata": {
            "tags": []
          },
          "execution_count": 34
        }
      ]
    },
    {
      "cell_type": "markdown",
      "metadata": {
        "id": "rb80PJb11_it"
      },
      "source": [
        "### Dataset and Data Loader\n",
        "\n",
        "We can also load the data into a PyTorch `DataLoader` object, which makes it easy to manipulate the data, create batches, and apply further transformations. This simplified our training procedure as well -- we will look a this in the next notebook."
      ]
    },
    {
      "cell_type": "code",
      "metadata": {
        "id": "Vy8lEQMH2dsr"
      },
      "source": [
        "## Define a few useful parameters\n",
        "\n",
        "TRAIN_BUFFER_SIZE = len(input_tensor_train)\n",
        "VAL_BUFFER_SIZE = len(input_tensor_val)\n",
        "TEST_BUFFER_SIZE = len(input_tensor_test)\n",
        "BATCH_SIZE = 64\n",
        "\n",
        "TRAIN_N_BATCH = TRAIN_BUFFER_SIZE // BATCH_SIZE\n",
        "VAL_N_BATCH = VAL_BUFFER_SIZE // BATCH_SIZE\n",
        "TEST_N_BATCH = TEST_BUFFER_SIZE // BATCH_SIZE"
      ],
      "execution_count": null,
      "outputs": []
    },
    {
      "cell_type": "code",
      "metadata": {
        "id": "MV3LfSO228HT"
      },
      "source": [
        "from torch.utils.data import Dataset, DataLoader"
      ],
      "execution_count": null,
      "outputs": []
    },
    {
      "cell_type": "markdown",
      "metadata": {
        "id": "p7nEtXXsZPqy"
      },
      "source": [
        "We use the `Dataset` class to represent a dataset object. You override a few methods and you should be able to create the dataset object you need."
      ]
    },
    {
      "cell_type": "code",
      "metadata": {
        "id": "WDt9fCs53Tcg"
      },
      "source": [
        "class MyData(Dataset):\n",
        "    def __init__(self, X, y):\n",
        "        self.data = X\n",
        "        self.target = y\n",
        "        self.length = [ np.sum(1 - np.equal(x, 0)) for x in X]\n",
        "        \n",
        "    def __getitem__(self, index):\n",
        "        x = self.data[index]\n",
        "        y = self.target[index]\n",
        "        x_len = self.length[index]\n",
        "        return x, y, x_len\n",
        "    \n",
        "    def __len__(self):\n",
        "        return len(self.data)"
      ],
      "execution_count": null,
      "outputs": []
    },
    {
      "cell_type": "markdown",
      "metadata": {
        "id": "M8Y21Kt1aN4A"
      },
      "source": [
        "Load the data and then pass it to an `iterator` called `DataLoadder` which finally defines how samples/batches should be prepared."
      ]
    },
    {
      "cell_type": "code",
      "metadata": {
        "id": "GLYJMrGM3wgZ"
      },
      "source": [
        "## Dataset instance\n",
        "train_dataset = MyData(input_tensor_train, target_tensor_train)\n",
        "val_dataset = MyData(input_tensor_val, target_tensor_val)\n",
        "test_dataset = MyData(input_tensor_test, target_tensor_test)\n",
        "\n",
        "\n",
        "## Data Loader instance\n",
        "train_dataset = DataLoader(train_dataset, batch_size = BATCH_SIZE, \n",
        "                     drop_last=True,\n",
        "                     shuffle=True)\n",
        "\n",
        "val_dataset = DataLoader(val_dataset, batch_size = BATCH_SIZE, \n",
        "                     drop_last=True,\n",
        "                     shuffle=True)\n",
        "\n",
        "test_dataset = DataLoader(test_dataset, batch_size = BATCH_SIZE, \n",
        "                     drop_last=True,\n",
        "                     shuffle=True)"
      ],
      "execution_count": null,
      "outputs": []
    },
    {
      "cell_type": "code",
      "metadata": {
        "id": "fV8ttR8BBV58",
        "outputId": "283c7944-c4ba-4fcd-9b94-28d5a1086730",
        "colab": {
          "base_uri": "https://localhost:8080/",
          "height": 34
        }
      },
      "source": [
        "val_dataset.batch_size"
      ],
      "execution_count": null,
      "outputs": [
        {
          "output_type": "execute_result",
          "data": {
            "text/plain": [
              "64"
            ]
          },
          "metadata": {
            "tags": []
          },
          "execution_count": 44
        }
      ]
    },
    {
      "cell_type": "code",
      "metadata": {
        "id": "eNMbPgVr4ZZ_",
        "outputId": "f7e960cb-81b9-4f1e-c681-af96fc29c07d",
        "colab": {
          "base_uri": "https://localhost:8080/",
          "height": 289
        }
      },
      "source": [
        "## preview of the data\n",
        "val_dataset.dataset.data[0:2]"
      ],
      "execution_count": null,
      "outputs": [
        {
          "output_type": "execute_result",
          "data": {
            "text/plain": [
              "[array([11799,  8753, 22354, 18123, 26880, 15861,  7518,   873,  1308,\n",
              "        11658, 10113, 24644, 22103, 16768, 25140, 16266, 11658, 13397,\n",
              "        24282, 26633, 11658, 11371, 16768, 24292, 20947, 16768, 26538,\n",
              "        15597, 11799, 10143, 24644, 21234,  1448, 13741,     1, 13289,\n",
              "        14249,  9284, 24292, 26543,     0,     0,     0,     0,     0,\n",
              "            0,     0,     0,     0,     0,     0,     0,     0,     0,\n",
              "            0,     0,     0,     0,     0,     0,     0,     0,     0,\n",
              "            0,     0,     0,     0,     0,     0]),\n",
              " array([11658,  8746, 13956, 11658, 10867, 13098, 26924, 25764,  9558,\n",
              "            1,  7140,   873,   745,  1509, 24644, 19908, 24292,  6341,\n",
              "        16663, 12690,  8199,  1308, 12690, 10737,  8707, 24282, 22202,\n",
              "         6341,  1198,  9934, 14251,   873, 24561, 12647,  9934, 16353,\n",
              "        21380,     0,     0,     0,     0,     0,     0,     0,     0,\n",
              "            0,     0,     0,     0,     0,     0,     0,     0,     0,\n",
              "            0,     0,     0,     0,     0,     0,     0,     0,     0,\n",
              "            0,     0,     0,     0,     0,     0])]"
            ]
          },
          "metadata": {
            "tags": []
          },
          "execution_count": 49
        }
      ]
    }
  ]
}